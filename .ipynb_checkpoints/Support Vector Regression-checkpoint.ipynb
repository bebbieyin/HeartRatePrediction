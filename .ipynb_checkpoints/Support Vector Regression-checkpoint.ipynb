{
 "cells": [
  {
   "cell_type": "code",
   "execution_count": 32,
   "id": "315504ec",
   "metadata": {},
   "outputs": [],
   "source": [
    "import pandas as pd\n",
    "from sklearn.model_selection import train_test_split\n",
    "from sklearn.svm import SVR\n",
    "from sklearn.metrics import mean_squared_error\n",
    "from pprint import pprint\n",
    "from sklearn.model_selection import GridSearchCV\n",
    "from sklearn.metrics import mean_squared_error,mean_absolute_error\n",
    "from sklearn import preprocessing\n",
    "import pickle\n",
    "import warnings\n",
    "import matplotlib.pyplot as plt\n",
    "warnings.filterwarnings(\"ignore\")"
   ]
  },
  {
   "cell_type": "markdown",
   "id": "ede0eb22",
   "metadata": {},
   "source": [
    "## Load Train Data"
   ]
  },
  {
   "cell_type": "code",
   "execution_count": 12,
   "id": "6099c268",
   "metadata": {},
   "outputs": [
    {
     "data": {
      "text/html": [
       "<div>\n",
       "<style scoped>\n",
       "    .dataframe tbody tr th:only-of-type {\n",
       "        vertical-align: middle;\n",
       "    }\n",
       "\n",
       "    .dataframe tbody tr th {\n",
       "        vertical-align: top;\n",
       "    }\n",
       "\n",
       "    .dataframe thead th {\n",
       "        text-align: right;\n",
       "    }\n",
       "</style>\n",
       "<table border=\"1\" class=\"dataframe\">\n",
       "  <thead>\n",
       "    <tr style=\"text-align: right;\">\n",
       "      <th></th>\n",
       "      <th>Infant</th>\n",
       "      <th>Heart Rate</th>\n",
       "      <th>Time (sec)</th>\n",
       "      <th>Respiratory Rate</th>\n",
       "    </tr>\n",
       "  </thead>\n",
       "  <tbody>\n",
       "    <tr>\n",
       "      <th>0</th>\n",
       "      <td>2</td>\n",
       "      <td>118.58</td>\n",
       "      <td>411.30</td>\n",
       "      <td>40.00</td>\n",
       "    </tr>\n",
       "    <tr>\n",
       "      <th>1</th>\n",
       "      <td>2</td>\n",
       "      <td>117.19</td>\n",
       "      <td>411.52</td>\n",
       "      <td>40.00</td>\n",
       "    </tr>\n",
       "    <tr>\n",
       "      <th>2</th>\n",
       "      <td>2</td>\n",
       "      <td>118.11</td>\n",
       "      <td>412.02</td>\n",
       "      <td>40.00</td>\n",
       "    </tr>\n",
       "    <tr>\n",
       "      <th>3</th>\n",
       "      <td>2</td>\n",
       "      <td>118.11</td>\n",
       "      <td>412.04</td>\n",
       "      <td>81.08</td>\n",
       "    </tr>\n",
       "    <tr>\n",
       "      <th>4</th>\n",
       "      <td>2</td>\n",
       "      <td>118.11</td>\n",
       "      <td>412.56</td>\n",
       "      <td>115.38</td>\n",
       "    </tr>\n",
       "    <tr>\n",
       "      <th>...</th>\n",
       "      <td>...</td>\n",
       "      <td>...</td>\n",
       "      <td>...</td>\n",
       "      <td>...</td>\n",
       "    </tr>\n",
       "    <tr>\n",
       "      <th>100112</th>\n",
       "      <td>10</td>\n",
       "      <td>106.01</td>\n",
       "      <td>158928.38</td>\n",
       "      <td>93.75</td>\n",
       "    </tr>\n",
       "    <tr>\n",
       "      <th>100113</th>\n",
       "      <td>10</td>\n",
       "      <td>102.04</td>\n",
       "      <td>160485.40</td>\n",
       "      <td>93.75</td>\n",
       "    </tr>\n",
       "    <tr>\n",
       "      <th>100114</th>\n",
       "      <td>10</td>\n",
       "      <td>104.17</td>\n",
       "      <td>161948.56</td>\n",
       "      <td>93.75</td>\n",
       "    </tr>\n",
       "    <tr>\n",
       "      <th>100115</th>\n",
       "      <td>10</td>\n",
       "      <td>245.90</td>\n",
       "      <td>162241.24</td>\n",
       "      <td>93.75</td>\n",
       "    </tr>\n",
       "    <tr>\n",
       "      <th>100116</th>\n",
       "      <td>10</td>\n",
       "      <td>107.53</td>\n",
       "      <td>162422.26</td>\n",
       "      <td>93.75</td>\n",
       "    </tr>\n",
       "  </tbody>\n",
       "</table>\n",
       "<p>100117 rows × 4 columns</p>\n",
       "</div>"
      ],
      "text/plain": [
       "        Infant  Heart Rate  Time (sec)  Respiratory Rate\n",
       "0            2      118.58      411.30             40.00\n",
       "1            2      117.19      411.52             40.00\n",
       "2            2      118.11      412.02             40.00\n",
       "3            2      118.11      412.04             81.08\n",
       "4            2      118.11      412.56            115.38\n",
       "...        ...         ...         ...               ...\n",
       "100112      10      106.01   158928.38             93.75\n",
       "100113      10      102.04   160485.40             93.75\n",
       "100114      10      104.17   161948.56             93.75\n",
       "100115      10      245.90   162241.24             93.75\n",
       "100116      10      107.53   162422.26             93.75\n",
       "\n",
       "[100117 rows x 4 columns]"
      ]
     },
     "execution_count": 12,
     "metadata": {},
     "output_type": "execute_result"
    }
   ],
   "source": [
    "train_data = pd.read_csv(r\"dataset/train_data.csv\")\n",
    "train_data = train_data.round(2)\n",
    "train_data"
   ]
  },
  {
   "cell_type": "code",
   "execution_count": 13,
   "id": "f8d26c8e",
   "metadata": {},
   "outputs": [],
   "source": [
    "X = train_data[['Time (sec)','Respiratory Rate']] # respiratory rate data\n",
    "y = train_data['Heart Rate']  # heart rate labels"
   ]
  },
  {
   "cell_type": "code",
   "execution_count": 14,
   "id": "98791a29",
   "metadata": {},
   "outputs": [],
   "source": [
    "sc = preprocessing.StandardScaler()\n",
    "X = sc.fit_transform(X)"
   ]
  },
  {
   "cell_type": "markdown",
   "id": "29f7f874",
   "metadata": {},
   "source": [
    "## Splitting the dataset into the Training set and Validation set "
   ]
  },
  {
   "cell_type": "code",
   "execution_count": 15,
   "id": "a53d1ed1",
   "metadata": {},
   "outputs": [],
   "source": [
    "X_train, X_test, y_train, y_test = train_test_split(X, y, test_size = 0.2, random_state = 42)"
   ]
  },
  {
   "cell_type": "markdown",
   "id": "14f4a035",
   "metadata": {},
   "source": [
    "## Training"
   ]
  },
  {
   "cell_type": "code",
   "execution_count": 16,
   "id": "22546de1",
   "metadata": {},
   "outputs": [],
   "source": [
    "svr = SVR()"
   ]
  },
  {
   "cell_type": "code",
   "execution_count": 20,
   "id": "fa50610a",
   "metadata": {},
   "outputs": [
    {
     "name": "stdout",
     "output_type": "stream",
     "text": [
      "Fitting 2 folds for each of 48 candidates, totalling 96 fits\n",
      "[CV 1/2; 1/48] START C=1, degree=3, epsilon=0.1, gamma=0.1, kernel=poly.........\n",
      "[CV 1/2; 1/48] END C=1, degree=3, epsilon=0.1, gamma=0.1, kernel=poly;, score=-981.508 total time= 1.4min\n",
      "[CV 2/2; 1/48] START C=1, degree=3, epsilon=0.1, gamma=0.1, kernel=poly.........\n",
      "[CV 2/2; 1/48] END C=1, degree=3, epsilon=0.1, gamma=0.1, kernel=poly;, score=-988.764 total time= 1.4min\n",
      "[CV 1/2; 2/48] START C=1, degree=3, epsilon=0.1, gamma=0.01, kernel=poly........\n",
      "[CV 1/2; 2/48] END C=1, degree=3, epsilon=0.1, gamma=0.01, kernel=poly;, score=-991.412 total time= 1.5min\n",
      "[CV 2/2; 2/48] START C=1, degree=3, epsilon=0.1, gamma=0.01, kernel=poly........\n",
      "[CV 2/2; 2/48] END C=1, degree=3, epsilon=0.1, gamma=0.01, kernel=poly;, score=-999.518 total time= 1.4min\n",
      "[CV 1/2; 3/48] START C=1, degree=3, epsilon=0.1, gamma=0.001, kernel=poly.......\n",
      "[CV 1/2; 3/48] END C=1, degree=3, epsilon=0.1, gamma=0.001, kernel=poly;, score=-992.188 total time= 1.4min\n",
      "[CV 2/2; 3/48] START C=1, degree=3, epsilon=0.1, gamma=0.001, kernel=poly.......\n",
      "[CV 2/2; 3/48] END C=1, degree=3, epsilon=0.1, gamma=0.001, kernel=poly;, score=-1000.451 total time= 1.4min\n",
      "[CV 1/2; 4/48] START C=1, degree=3, epsilon=0.3, gamma=0.1, kernel=poly.........\n",
      "[CV 1/2; 4/48] END C=1, degree=3, epsilon=0.3, gamma=0.1, kernel=poly;, score=-981.272 total time= 1.4min\n",
      "[CV 2/2; 4/48] START C=1, degree=3, epsilon=0.3, gamma=0.1, kernel=poly.........\n",
      "[CV 2/2; 4/48] END C=1, degree=3, epsilon=0.3, gamma=0.1, kernel=poly;, score=-988.659 total time= 1.6min\n",
      "[CV 1/2; 5/48] START C=1, degree=3, epsilon=0.3, gamma=0.01, kernel=poly........\n",
      "[CV 1/2; 5/48] END C=1, degree=3, epsilon=0.3, gamma=0.01, kernel=poly;, score=-990.179 total time= 1.4min\n",
      "[CV 2/2; 5/48] START C=1, degree=3, epsilon=0.3, gamma=0.01, kernel=poly........\n",
      "[CV 2/2; 5/48] END C=1, degree=3, epsilon=0.3, gamma=0.01, kernel=poly;, score=-998.338 total time= 1.4min\n",
      "[CV 1/2; 6/48] START C=1, degree=3, epsilon=0.3, gamma=0.001, kernel=poly.......\n",
      "[CV 1/2; 6/48] END C=1, degree=3, epsilon=0.3, gamma=0.001, kernel=poly;, score=-990.954 total time= 1.4min\n",
      "[CV 2/2; 6/48] START C=1, degree=3, epsilon=0.3, gamma=0.001, kernel=poly.......\n",
      "[CV 2/2; 6/48] END C=1, degree=3, epsilon=0.3, gamma=0.001, kernel=poly;, score=-999.234 total time= 1.4min\n",
      "[CV 1/2; 7/48] START C=1, degree=4, epsilon=0.1, gamma=0.1, kernel=poly.........\n",
      "[CV 1/2; 7/48] END C=1, degree=4, epsilon=0.1, gamma=0.1, kernel=poly;, score=-981.073 total time= 1.5min\n",
      "[CV 2/2; 7/48] START C=1, degree=4, epsilon=0.1, gamma=0.1, kernel=poly.........\n",
      "[CV 2/2; 7/48] END C=1, degree=4, epsilon=0.1, gamma=0.1, kernel=poly;, score=-987.836 total time= 1.5min\n",
      "[CV 1/2; 8/48] START C=1, degree=4, epsilon=0.1, gamma=0.01, kernel=poly........\n",
      "[CV 1/2; 8/48] END C=1, degree=4, epsilon=0.1, gamma=0.01, kernel=poly;, score=-992.076 total time= 1.4min\n",
      "[CV 2/2; 8/48] START C=1, degree=4, epsilon=0.1, gamma=0.01, kernel=poly........\n",
      "[CV 2/2; 8/48] END C=1, degree=4, epsilon=0.1, gamma=0.01, kernel=poly;, score=-1000.331 total time= 1.4min\n",
      "[CV 1/2; 9/48] START C=1, degree=4, epsilon=0.1, gamma=0.001, kernel=poly.......\n",
      "[CV 1/2; 9/48] END C=1, degree=4, epsilon=0.1, gamma=0.001, kernel=poly;, score=-992.188 total time= 1.4min\n",
      "[CV 2/2; 9/48] START C=1, degree=4, epsilon=0.1, gamma=0.001, kernel=poly.......\n",
      "[CV 2/2; 9/48] END C=1, degree=4, epsilon=0.1, gamma=0.001, kernel=poly;, score=-1000.451 total time= 1.4min\n",
      "[CV 1/2; 10/48] START C=1, degree=4, epsilon=0.3, gamma=0.1, kernel=poly........\n",
      "[CV 1/2; 10/48] END C=1, degree=4, epsilon=0.3, gamma=0.1, kernel=poly;, score=-980.186 total time= 1.2min\n",
      "[CV 2/2; 10/48] START C=1, degree=4, epsilon=0.3, gamma=0.1, kernel=poly........\n",
      "[CV 2/2; 10/48] END C=1, degree=4, epsilon=0.3, gamma=0.1, kernel=poly;, score=-987.187 total time= 1.2min\n",
      "[CV 1/2; 11/48] START C=1, degree=4, epsilon=0.3, gamma=0.01, kernel=poly.......\n",
      "[CV 1/2; 11/48] END C=1, degree=4, epsilon=0.3, gamma=0.01, kernel=poly;, score=-990.844 total time= 1.4min\n",
      "[CV 2/2; 11/48] START C=1, degree=4, epsilon=0.3, gamma=0.01, kernel=poly.......\n",
      "[CV 2/2; 11/48] END C=1, degree=4, epsilon=0.3, gamma=0.01, kernel=poly;, score=-999.115 total time= 1.4min\n",
      "[CV 1/2; 12/48] START C=1, degree=4, epsilon=0.3, gamma=0.001, kernel=poly......\n",
      "[CV 1/2; 12/48] END C=1, degree=4, epsilon=0.3, gamma=0.001, kernel=poly;, score=-990.955 total time= 1.4min\n",
      "[CV 2/2; 12/48] START C=1, degree=4, epsilon=0.3, gamma=0.001, kernel=poly......\n",
      "[CV 2/2; 12/48] END C=1, degree=4, epsilon=0.3, gamma=0.001, kernel=poly;, score=-999.235 total time= 1.5min\n",
      "[CV 1/2; 13/48] START C=10, degree=3, epsilon=0.1, gamma=0.1, kernel=poly.......\n",
      "[CV 1/2; 13/48] END C=10, degree=3, epsilon=0.1, gamma=0.1, kernel=poly;, score=-981.826 total time= 1.1min\n",
      "[CV 2/2; 13/48] START C=10, degree=3, epsilon=0.1, gamma=0.1, kernel=poly.......\n",
      "[CV 2/2; 13/48] END C=10, degree=3, epsilon=0.1, gamma=0.1, kernel=poly;, score=-990.550 total time= 1.1min\n",
      "[CV 1/2; 14/48] START C=10, degree=3, epsilon=0.1, gamma=0.01, kernel=poly......\n",
      "[CV 1/2; 14/48] END C=10, degree=3, epsilon=0.1, gamma=0.01, kernel=poly;, score=-987.116 total time= 1.6min\n",
      "[CV 2/2; 14/48] START C=10, degree=3, epsilon=0.1, gamma=0.01, kernel=poly......\n",
      "[CV 2/2; 14/48] END C=10, degree=3, epsilon=0.1, gamma=0.01, kernel=poly;, score=-994.296 total time= 1.4min\n",
      "[CV 1/2; 15/48] START C=10, degree=3, epsilon=0.1, gamma=0.001, kernel=poly.....\n",
      "[CV 1/2; 15/48] END C=10, degree=3, epsilon=0.1, gamma=0.001, kernel=poly;, score=-992.180 total time= 1.4min\n",
      "[CV 2/2; 15/48] START C=10, degree=3, epsilon=0.1, gamma=0.001, kernel=poly.....\n",
      "[CV 2/2; 15/48] END C=10, degree=3, epsilon=0.1, gamma=0.001, kernel=poly;, score=-1000.444 total time= 1.4min\n",
      "[CV 1/2; 16/48] START C=10, degree=3, epsilon=0.3, gamma=0.1, kernel=poly.......\n",
      "[CV 1/2; 16/48] END C=10, degree=3, epsilon=0.3, gamma=0.1, kernel=poly;, score=-981.776 total time= 1.1min\n",
      "[CV 2/2; 16/48] START C=10, degree=3, epsilon=0.3, gamma=0.1, kernel=poly.......\n",
      "[CV 2/2; 16/48] END C=10, degree=3, epsilon=0.3, gamma=0.1, kernel=poly;, score=-990.395 total time= 1.1min\n",
      "[CV 1/2; 17/48] START C=10, degree=3, epsilon=0.3, gamma=0.01, kernel=poly......\n",
      "[CV 1/2; 17/48] END C=10, degree=3, epsilon=0.3, gamma=0.01, kernel=poly;, score=-985.944 total time= 1.4min\n",
      "[CV 2/2; 17/48] START C=10, degree=3, epsilon=0.3, gamma=0.01, kernel=poly......\n",
      "[CV 2/2; 17/48] END C=10, degree=3, epsilon=0.3, gamma=0.01, kernel=poly;, score=-993.595 total time= 1.4min\n",
      "[CV 1/2; 18/48] START C=10, degree=3, epsilon=0.3, gamma=0.001, kernel=poly.....\n",
      "[CV 1/2; 18/48] END C=10, degree=3, epsilon=0.3, gamma=0.001, kernel=poly;, score=-990.947 total time= 1.4min\n",
      "[CV 2/2; 18/48] START C=10, degree=3, epsilon=0.3, gamma=0.001, kernel=poly.....\n",
      "[CV 2/2; 18/48] END C=10, degree=3, epsilon=0.3, gamma=0.001, kernel=poly;, score=-999.228 total time= 1.4min\n",
      "[CV 1/2; 19/48] START C=10, degree=4, epsilon=0.1, gamma=0.1, kernel=poly.......\n",
      "[CV 1/2; 19/48] END C=10, degree=4, epsilon=0.1, gamma=0.1, kernel=poly;, score=-980.642 total time= 1.2min\n",
      "[CV 2/2; 19/48] START C=10, degree=4, epsilon=0.1, gamma=0.1, kernel=poly.......\n",
      "[CV 2/2; 19/48] END C=10, degree=4, epsilon=0.1, gamma=0.1, kernel=poly;, score=-987.461 total time= 1.6min\n",
      "[CV 1/2; 20/48] START C=10, degree=4, epsilon=0.1, gamma=0.01, kernel=poly......\n",
      "[CV 1/2; 20/48] END C=10, degree=4, epsilon=0.1, gamma=0.01, kernel=poly;, score=-991.131 total time= 1.4min\n",
      "[CV 2/2; 20/48] START C=10, degree=4, epsilon=0.1, gamma=0.01, kernel=poly......\n",
      "[CV 2/2; 20/48] END C=10, degree=4, epsilon=0.1, gamma=0.01, kernel=poly;, score=-999.280 total time= 1.4min\n",
      "[CV 1/2; 21/48] START C=10, degree=4, epsilon=0.1, gamma=0.001, kernel=poly.....\n",
      "[CV 1/2; 21/48] END C=10, degree=4, epsilon=0.1, gamma=0.001, kernel=poly;, score=-992.188 total time= 1.4min\n",
      "[CV 2/2; 21/48] START C=10, degree=4, epsilon=0.1, gamma=0.001, kernel=poly.....\n",
      "[CV 2/2; 21/48] END C=10, degree=4, epsilon=0.1, gamma=0.001, kernel=poly;, score=-1000.451 total time= 1.4min\n",
      "[CV 1/2; 22/48] START C=10, degree=4, epsilon=0.3, gamma=0.1, kernel=poly.......\n",
      "[CV 1/2; 22/48] END C=10, degree=4, epsilon=0.3, gamma=0.1, kernel=poly;, score=-980.702 total time= 1.2min\n",
      "[CV 2/2; 22/48] START C=10, degree=4, epsilon=0.3, gamma=0.1, kernel=poly.......\n"
     ]
    },
    {
     "name": "stdout",
     "output_type": "stream",
     "text": [
      "[CV 2/2; 22/48] END C=10, degree=4, epsilon=0.3, gamma=0.1, kernel=poly;, score=-986.878 total time= 1.2min\n",
      "[CV 1/2; 23/48] START C=10, degree=4, epsilon=0.3, gamma=0.01, kernel=poly......\n",
      "[CV 1/2; 23/48] END C=10, degree=4, epsilon=0.3, gamma=0.01, kernel=poly;, score=-989.895 total time= 1.4min\n",
      "[CV 2/2; 23/48] START C=10, degree=4, epsilon=0.3, gamma=0.01, kernel=poly......\n",
      "[CV 2/2; 23/48] END C=10, degree=4, epsilon=0.3, gamma=0.01, kernel=poly;, score=-998.072 total time= 1.4min\n",
      "[CV 1/2; 24/48] START C=10, degree=4, epsilon=0.3, gamma=0.001, kernel=poly.....\n",
      "[CV 1/2; 24/48] END C=10, degree=4, epsilon=0.3, gamma=0.001, kernel=poly;, score=-990.955 total time= 1.4min\n",
      "[CV 2/2; 24/48] START C=10, degree=4, epsilon=0.3, gamma=0.001, kernel=poly.....\n",
      "[CV 2/2; 24/48] END C=10, degree=4, epsilon=0.3, gamma=0.001, kernel=poly;, score=-999.235 total time= 1.5min\n",
      "[CV 1/2; 25/48] START C=100, degree=3, epsilon=0.1, gamma=0.1, kernel=poly......\n",
      "[CV 1/2; 25/48] END C=100, degree=3, epsilon=0.1, gamma=0.1, kernel=poly;, score=-981.961 total time= 1.2min\n",
      "[CV 2/2; 25/48] START C=100, degree=3, epsilon=0.1, gamma=0.1, kernel=poly......\n",
      "[CV 2/2; 25/48] END C=100, degree=3, epsilon=0.1, gamma=0.1, kernel=poly;, score=-990.910 total time= 1.1min\n",
      "[CV 1/2; 26/48] START C=100, degree=3, epsilon=0.1, gamma=0.01, kernel=poly.....\n",
      "[CV 1/2; 26/48] END C=100, degree=3, epsilon=0.1, gamma=0.01, kernel=poly;, score=-981.966 total time= 1.4min\n",
      "[CV 2/2; 26/48] START C=100, degree=3, epsilon=0.1, gamma=0.01, kernel=poly.....\n",
      "[CV 2/2; 26/48] END C=100, degree=3, epsilon=0.1, gamma=0.01, kernel=poly;, score=-989.003 total time= 1.4min\n",
      "[CV 1/2; 27/48] START C=100, degree=3, epsilon=0.1, gamma=0.001, kernel=poly....\n",
      "[CV 1/2; 27/48] END C=100, degree=3, epsilon=0.1, gamma=0.001, kernel=poly;, score=-992.107 total time= 1.4min\n",
      "[CV 2/2; 27/48] START C=100, degree=3, epsilon=0.1, gamma=0.001, kernel=poly....\n",
      "[CV 2/2; 27/48] END C=100, degree=3, epsilon=0.1, gamma=0.001, kernel=poly;, score=-1000.356 total time= 1.4min\n",
      "[CV 1/2; 28/48] START C=100, degree=3, epsilon=0.3, gamma=0.1, kernel=poly......\n",
      "[CV 1/2; 28/48] END C=100, degree=3, epsilon=0.3, gamma=0.1, kernel=poly;, score=-981.887 total time= 1.2min\n",
      "[CV 2/2; 28/48] START C=100, degree=3, epsilon=0.3, gamma=0.1, kernel=poly......\n",
      "[CV 2/2; 28/48] END C=100, degree=3, epsilon=0.3, gamma=0.1, kernel=poly;, score=-990.880 total time= 1.1min\n",
      "[CV 1/2; 29/48] START C=100, degree=3, epsilon=0.3, gamma=0.01, kernel=poly.....\n",
      "[CV 1/2; 29/48] END C=100, degree=3, epsilon=0.3, gamma=0.01, kernel=poly;, score=-982.035 total time= 1.4min\n",
      "[CV 2/2; 29/48] START C=100, degree=3, epsilon=0.3, gamma=0.01, kernel=poly.....\n",
      "[CV 2/2; 29/48] END C=100, degree=3, epsilon=0.3, gamma=0.01, kernel=poly;, score=-988.482 total time= 1.4min\n",
      "[CV 1/2; 30/48] START C=100, degree=3, epsilon=0.3, gamma=0.001, kernel=poly....\n",
      "[CV 1/2; 30/48] END C=100, degree=3, epsilon=0.3, gamma=0.001, kernel=poly;, score=-990.877 total time= 1.4min\n",
      "[CV 2/2; 30/48] START C=100, degree=3, epsilon=0.3, gamma=0.001, kernel=poly....\n",
      "[CV 2/2; 30/48] END C=100, degree=3, epsilon=0.3, gamma=0.001, kernel=poly;, score=-999.140 total time= 1.4min\n",
      "[CV 1/2; 31/48] START C=100, degree=4, epsilon=0.1, gamma=0.1, kernel=poly......\n",
      "[CV 1/2; 31/48] END C=100, degree=4, epsilon=0.1, gamma=0.1, kernel=poly;, score=-980.525 total time= 1.2min\n",
      "[CV 2/2; 31/48] START C=100, degree=4, epsilon=0.1, gamma=0.1, kernel=poly......\n",
      "[CV 2/2; 31/48] END C=100, degree=4, epsilon=0.1, gamma=0.1, kernel=poly;, score=-987.607 total time= 1.2min\n",
      "[CV 1/2; 32/48] START C=100, degree=4, epsilon=0.1, gamma=0.01, kernel=poly.....\n",
      "[CV 1/2; 32/48] END C=100, degree=4, epsilon=0.1, gamma=0.01, kernel=poly;, score=-985.935 total time= 1.4min\n",
      "[CV 2/2; 32/48] START C=100, degree=4, epsilon=0.1, gamma=0.01, kernel=poly.....\n",
      "[CV 2/2; 32/48] END C=100, degree=4, epsilon=0.1, gamma=0.01, kernel=poly;, score=-993.087 total time= 1.4min\n",
      "[CV 1/2; 33/48] START C=100, degree=4, epsilon=0.1, gamma=0.001, kernel=poly....\n",
      "[CV 1/2; 33/48] END C=100, degree=4, epsilon=0.1, gamma=0.001, kernel=poly;, score=-992.188 total time= 1.4min\n",
      "[CV 2/2; 33/48] START C=100, degree=4, epsilon=0.1, gamma=0.001, kernel=poly....\n",
      "[CV 2/2; 33/48] END C=100, degree=4, epsilon=0.1, gamma=0.001, kernel=poly;, score=-1000.450 total time= 1.4min\n",
      "[CV 1/2; 34/48] START C=100, degree=4, epsilon=0.3, gamma=0.1, kernel=poly......\n",
      "[CV 1/2; 34/48] END C=100, degree=4, epsilon=0.3, gamma=0.1, kernel=poly;, score=-981.101 total time= 1.2min\n",
      "[CV 2/2; 34/48] START C=100, degree=4, epsilon=0.3, gamma=0.1, kernel=poly......\n",
      "[CV 2/2; 34/48] END C=100, degree=4, epsilon=0.3, gamma=0.1, kernel=poly;, score=-986.930 total time= 1.2min\n",
      "[CV 1/2; 35/48] START C=100, degree=4, epsilon=0.3, gamma=0.01, kernel=poly.....\n",
      "[CV 1/2; 35/48] END C=100, degree=4, epsilon=0.3, gamma=0.01, kernel=poly;, score=-984.677 total time= 1.4min\n",
      "[CV 2/2; 35/48] START C=100, degree=4, epsilon=0.3, gamma=0.01, kernel=poly.....\n",
      "[CV 2/2; 35/48] END C=100, degree=4, epsilon=0.3, gamma=0.01, kernel=poly;, score=-991.931 total time= 1.4min\n",
      "[CV 1/2; 36/48] START C=100, degree=4, epsilon=0.3, gamma=0.001, kernel=poly....\n",
      "[CV 1/2; 36/48] END C=100, degree=4, epsilon=0.3, gamma=0.001, kernel=poly;, score=-990.954 total time= 1.4min\n",
      "[CV 2/2; 36/48] START C=100, degree=4, epsilon=0.3, gamma=0.001, kernel=poly....\n",
      "[CV 2/2; 36/48] END C=100, degree=4, epsilon=0.3, gamma=0.001, kernel=poly;, score=-999.234 total time= 1.5min\n",
      "[CV 1/2; 37/48] START C=1000, degree=3, epsilon=0.1, gamma=0.1, kernel=poly.....\n",
      "[CV 1/2; 37/48] END C=1000, degree=3, epsilon=0.1, gamma=0.1, kernel=poly;, score=-981.956 total time= 1.2min\n",
      "[CV 2/2; 37/48] START C=1000, degree=3, epsilon=0.1, gamma=0.1, kernel=poly.....\n",
      "[CV 2/2; 37/48] END C=1000, degree=3, epsilon=0.1, gamma=0.1, kernel=poly;, score=-990.903 total time= 1.2min\n",
      "[CV 1/2; 38/48] START C=1000, degree=3, epsilon=0.1, gamma=0.01, kernel=poly....\n",
      "[CV 1/2; 38/48] END C=1000, degree=3, epsilon=0.1, gamma=0.01, kernel=poly;, score=-981.509 total time= 1.1min\n",
      "[CV 2/2; 38/48] START C=1000, degree=3, epsilon=0.1, gamma=0.01, kernel=poly....\n",
      "[CV 2/2; 38/48] END C=1000, degree=3, epsilon=0.1, gamma=0.01, kernel=poly;, score=-988.766 total time= 1.1min\n",
      "[CV 1/2; 39/48] START C=1000, degree=3, epsilon=0.1, gamma=0.001, kernel=poly...\n",
      "[CV 1/2; 39/48] END C=1000, degree=3, epsilon=0.1, gamma=0.001, kernel=poly;, score=-991.412 total time= 1.4min\n",
      "[CV 2/2; 39/48] START C=1000, degree=3, epsilon=0.1, gamma=0.001, kernel=poly...\n",
      "[CV 2/2; 39/48] END C=1000, degree=3, epsilon=0.1, gamma=0.001, kernel=poly;, score=-999.518 total time= 1.4min\n",
      "[CV 1/2; 40/48] START C=1000, degree=3, epsilon=0.3, gamma=0.1, kernel=poly.....\n",
      "[CV 1/2; 40/48] END C=1000, degree=3, epsilon=0.3, gamma=0.1, kernel=poly;, score=-981.889 total time= 1.2min\n",
      "[CV 2/2; 40/48] START C=1000, degree=3, epsilon=0.3, gamma=0.1, kernel=poly.....\n",
      "[CV 2/2; 40/48] END C=1000, degree=3, epsilon=0.3, gamma=0.1, kernel=poly;, score=-990.813 total time= 1.2min\n",
      "[CV 1/2; 41/48] START C=1000, degree=3, epsilon=0.3, gamma=0.01, kernel=poly....\n",
      "[CV 1/2; 41/48] END C=1000, degree=3, epsilon=0.3, gamma=0.01, kernel=poly;, score=-981.274 total time= 1.4min\n",
      "[CV 2/2; 41/48] START C=1000, degree=3, epsilon=0.3, gamma=0.01, kernel=poly....\n",
      "[CV 2/2; 41/48] END C=1000, degree=3, epsilon=0.3, gamma=0.01, kernel=poly;, score=-988.658 total time= 1.4min\n",
      "[CV 1/2; 42/48] START C=1000, degree=3, epsilon=0.3, gamma=0.001, kernel=poly...\n",
      "[CV 1/2; 42/48] END C=1000, degree=3, epsilon=0.3, gamma=0.001, kernel=poly;, score=-990.179 total time= 1.4min\n",
      "[CV 2/2; 42/48] START C=1000, degree=3, epsilon=0.3, gamma=0.001, kernel=poly...\n",
      "[CV 2/2; 42/48] END C=1000, degree=3, epsilon=0.3, gamma=0.001, kernel=poly;, score=-998.338 total time= 1.4min\n",
      "[CV 1/2; 43/48] START C=1000, degree=4, epsilon=0.1, gamma=0.1, kernel=poly.....\n",
      "[CV 1/2; 43/48] END C=1000, degree=4, epsilon=0.1, gamma=0.1, kernel=poly;, score=-980.490 total time= 1.2min\n",
      "[CV 2/2; 43/48] START C=1000, degree=4, epsilon=0.1, gamma=0.1, kernel=poly.....\n",
      "[CV 2/2; 43/48] END C=1000, degree=4, epsilon=0.1, gamma=0.1, kernel=poly;, score=-987.595 total time= 1.2min\n",
      "[CV 1/2; 44/48] START C=1000, degree=4, epsilon=0.1, gamma=0.01, kernel=poly....\n"
     ]
    },
    {
     "name": "stdout",
     "output_type": "stream",
     "text": [
      "[CV 1/2; 44/48] END C=1000, degree=4, epsilon=0.1, gamma=0.01, kernel=poly;, score=-982.765 total time= 1.4min\n",
      "[CV 2/2; 44/48] START C=1000, degree=4, epsilon=0.1, gamma=0.01, kernel=poly....\n",
      "[CV 2/2; 44/48] END C=1000, degree=4, epsilon=0.1, gamma=0.01, kernel=poly;, score=-989.329 total time= 1.4min\n",
      "[CV 1/2; 45/48] START C=1000, degree=4, epsilon=0.1, gamma=0.001, kernel=poly...\n",
      "[CV 1/2; 45/48] END C=1000, degree=4, epsilon=0.1, gamma=0.001, kernel=poly;, score=-992.178 total time= 1.4min\n",
      "[CV 2/2; 45/48] START C=1000, degree=4, epsilon=0.1, gamma=0.001, kernel=poly...\n",
      "[CV 2/2; 45/48] END C=1000, degree=4, epsilon=0.1, gamma=0.001, kernel=poly;, score=-1000.439 total time= 1.4min\n",
      "[CV 1/2; 46/48] START C=1000, degree=4, epsilon=0.3, gamma=0.1, kernel=poly.....\n",
      "[CV 1/2; 46/48] END C=1000, degree=4, epsilon=0.3, gamma=0.1, kernel=poly;, score=-981.141 total time= 1.2min\n",
      "[CV 2/2; 46/48] START C=1000, degree=4, epsilon=0.3, gamma=0.1, kernel=poly.....\n",
      "[CV 2/2; 46/48] END C=1000, degree=4, epsilon=0.3, gamma=0.1, kernel=poly;, score=-986.941 total time= 1.3min\n",
      "[CV 1/2; 47/48] START C=1000, degree=4, epsilon=0.3, gamma=0.01, kernel=poly....\n",
      "[CV 1/2; 47/48] END C=1000, degree=4, epsilon=0.3, gamma=0.01, kernel=poly;, score=-981.612 total time= 1.4min\n",
      "[CV 2/2; 47/48] START C=1000, degree=4, epsilon=0.3, gamma=0.01, kernel=poly....\n",
      "[CV 2/2; 47/48] END C=1000, degree=4, epsilon=0.3, gamma=0.01, kernel=poly;, score=-988.374 total time= 1.6min\n",
      "[CV 1/2; 48/48] START C=1000, degree=4, epsilon=0.3, gamma=0.001, kernel=poly...\n",
      "[CV 1/2; 48/48] END C=1000, degree=4, epsilon=0.3, gamma=0.001, kernel=poly;, score=-990.944 total time= 1.4min\n",
      "[CV 2/2; 48/48] START C=1000, degree=4, epsilon=0.3, gamma=0.001, kernel=poly...\n",
      "[CV 2/2; 48/48] END C=1000, degree=4, epsilon=0.3, gamma=0.001, kernel=poly;, score=-999.225 total time= 1.5min\n"
     ]
    }
   ],
   "source": [
    "# grid search to tune hyperparameters\n",
    "\n",
    "param_grid = [\n",
    "  {'C': [1,10, 100, 1000], \n",
    "    #'kernel': ['linear','rbf','poly','sigmoid'],\n",
    "   \"kernel\" : ['poly'],\n",
    "   'gamma': [0.1,0.01,0.001], \n",
    "   'epsilon':[0.1,0.3],\n",
    "    'degree':[3,4]\n",
    "  },\n",
    " ]\n",
    "\n",
    "grid = GridSearchCV(estimator=svr, param_grid=param_grid,cv=2, n_jobs=1,\n",
    "                    verbose=20, scoring='neg_mean_squared_error')\n",
    "\n",
    "grid_result = grid.fit(X_train, y_train.ravel())"
   ]
  },
  {
   "cell_type": "code",
   "execution_count": 21,
   "id": "e3ae7725",
   "metadata": {},
   "outputs": [
    {
     "name": "stdout",
     "output_type": "stream",
     "text": [
      "{'C': 1, 'degree': 4, 'epsilon': 0.3, 'gamma': 0.1, 'kernel': 'poly'}\n",
      "-983.686221724085\n"
     ]
    }
   ],
   "source": [
    "print(grid_result.best_params_)\n",
    "print(grid_result.best_score_)"
   ]
  },
  {
   "cell_type": "markdown",
   "id": "5872a99c",
   "metadata": {},
   "source": [
    "## Train data on optimized model"
   ]
  },
  {
   "cell_type": "code",
   "execution_count": 25,
   "id": "d469584e",
   "metadata": {},
   "outputs": [
    {
     "data": {
      "text/plain": [
       "SVR(C=1, degree=4, epsilon=0.3, gamma=0.1, kernel='poly')"
      ]
     },
     "execution_count": 25,
     "metadata": {},
     "output_type": "execute_result"
    }
   ],
   "source": [
    "optimized_svr = SVR(C=1,\n",
    "                   kernel='poly',\n",
    "                   degree=4,\n",
    "                   epsilon=0.3,\n",
    "                   gamma=0.1)\n",
    "\n",
    "optimized_svr.fit(X_train, y_train.ravel())\n"
   ]
  },
  {
   "cell_type": "markdown",
   "id": "ea1369ad",
   "metadata": {},
   "source": [
    "## Validate"
   ]
  },
  {
   "cell_type": "code",
   "execution_count": 26,
   "id": "59be39bb",
   "metadata": {},
   "outputs": [],
   "source": [
    "y_pred = optimized_svr.predict(X_test)"
   ]
  },
  {
   "cell_type": "code",
   "execution_count": 27,
   "id": "7cd507d0",
   "metadata": {},
   "outputs": [
    {
     "name": "stdout",
     "output_type": "stream",
     "text": [
      "Heart rate MSE: 979.701104691536\n",
      "Heart rate RMSE: 31.300177390735918\n",
      "Heart rate MAE: 24.020501201299595\n"
     ]
    }
   ],
   "source": [
    "print(\"Heart rate MSE:\", mean_squared_error(y_test, y_pred))\n",
    "print(\"Heart rate RMSE:\", mean_squared_error(y_test, y_pred,squared=False))\n",
    "print(\"Heart rate MAE:\", mean_absolute_error(y_test, y_pred))"
   ]
  },
  {
   "cell_type": "markdown",
   "id": "a923cf08",
   "metadata": {},
   "source": [
    "## Export the model"
   ]
  },
  {
   "cell_type": "code",
   "execution_count": 31,
   "id": "224a892e",
   "metadata": {},
   "outputs": [],
   "source": [
    "# save the model to disk\n",
    "filename = 'models/support_vector.sav'\n",
    "pickle.dump(optimized_svr, open(filename, 'wb'))"
   ]
  }
 ],
 "metadata": {
  "kernelspec": {
   "display_name": "Python 3 (ipykernel)",
   "language": "python",
   "name": "python3"
  },
  "language_info": {
   "codemirror_mode": {
    "name": "ipython",
    "version": 3
   },
   "file_extension": ".py",
   "mimetype": "text/x-python",
   "name": "python",
   "nbconvert_exporter": "python",
   "pygments_lexer": "ipython3",
   "version": "3.9.12"
  }
 },
 "nbformat": 4,
 "nbformat_minor": 5
}
