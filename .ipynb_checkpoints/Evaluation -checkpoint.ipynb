{
 "cells": [
  {
   "cell_type": "code",
   "execution_count": 1,
   "id": "487c3bc2",
   "metadata": {},
   "outputs": [],
   "source": [
    "import pickle\n",
    "import pandas as pd\n",
    "from sklearn.metrics import mean_squared_error,mean_absolute_error\n",
    "from sklearn import preprocessing\n",
    "import warnings\n",
    "from tqdm import tqdm\n",
    "import os\n",
    "import wfdb\n",
    "warnings.filterwarnings(\"ignore\")"
   ]
  },
  {
   "cell_type": "markdown",
   "id": "06406979",
   "metadata": {},
   "source": [
    "## Load Test Data"
   ]
  },
  {
   "cell_type": "code",
   "execution_count": 2,
   "id": "5cc92650",
   "metadata": {},
   "outputs": [
    {
     "data": {
      "text/html": [
       "<div>\n",
       "<style scoped>\n",
       "    .dataframe tbody tr th:only-of-type {\n",
       "        vertical-align: middle;\n",
       "    }\n",
       "\n",
       "    .dataframe tbody tr th {\n",
       "        vertical-align: top;\n",
       "    }\n",
       "\n",
       "    .dataframe thead th {\n",
       "        text-align: right;\n",
       "    }\n",
       "</style>\n",
       "<table border=\"1\" class=\"dataframe\">\n",
       "  <thead>\n",
       "    <tr style=\"text-align: right;\">\n",
       "      <th></th>\n",
       "      <th>Infant</th>\n",
       "      <th>Heart Rate</th>\n",
       "      <th>Time (sec)</th>\n",
       "      <th>Respiratory Rate</th>\n",
       "    </tr>\n",
       "  </thead>\n",
       "  <tbody>\n",
       "    <tr>\n",
       "      <th>0</th>\n",
       "      <td>7</td>\n",
       "      <td>184.05</td>\n",
       "      <td>30.56</td>\n",
       "      <td>93.75</td>\n",
       "    </tr>\n",
       "    <tr>\n",
       "      <th>1</th>\n",
       "      <td>7</td>\n",
       "      <td>182.93</td>\n",
       "      <td>30.88</td>\n",
       "      <td>93.75</td>\n",
       "    </tr>\n",
       "    <tr>\n",
       "      <th>2</th>\n",
       "      <td>7</td>\n",
       "      <td>182.93</td>\n",
       "      <td>32.56</td>\n",
       "      <td>50.85</td>\n",
       "    </tr>\n",
       "    <tr>\n",
       "      <th>3</th>\n",
       "      <td>7</td>\n",
       "      <td>184.05</td>\n",
       "      <td>32.84</td>\n",
       "      <td>50.85</td>\n",
       "    </tr>\n",
       "    <tr>\n",
       "      <th>4</th>\n",
       "      <td>7</td>\n",
       "      <td>184.05</td>\n",
       "      <td>33.18</td>\n",
       "      <td>96.77</td>\n",
       "    </tr>\n",
       "    <tr>\n",
       "      <th>...</th>\n",
       "      <td>...</td>\n",
       "      <td>...</td>\n",
       "      <td>...</td>\n",
       "      <td>...</td>\n",
       "    </tr>\n",
       "    <tr>\n",
       "      <th>48741</th>\n",
       "      <td>4</td>\n",
       "      <td>145.63</td>\n",
       "      <td>167495.94</td>\n",
       "      <td>23.81</td>\n",
       "    </tr>\n",
       "    <tr>\n",
       "      <th>48742</th>\n",
       "      <td>4</td>\n",
       "      <td>135.14</td>\n",
       "      <td>167498.74</td>\n",
       "      <td>42.25</td>\n",
       "    </tr>\n",
       "    <tr>\n",
       "      <th>48743</th>\n",
       "      <td>4</td>\n",
       "      <td>138.89</td>\n",
       "      <td>167499.18</td>\n",
       "      <td>45.45</td>\n",
       "    </tr>\n",
       "    <tr>\n",
       "      <th>48744</th>\n",
       "      <td>4</td>\n",
       "      <td>140.85</td>\n",
       "      <td>167555.70</td>\n",
       "      <td>44.12</td>\n",
       "    </tr>\n",
       "    <tr>\n",
       "      <th>48745</th>\n",
       "      <td>4</td>\n",
       "      <td>140.85</td>\n",
       "      <td>167555.84</td>\n",
       "      <td>68.18</td>\n",
       "    </tr>\n",
       "  </tbody>\n",
       "</table>\n",
       "<p>48746 rows × 4 columns</p>\n",
       "</div>"
      ],
      "text/plain": [
       "       Infant  Heart Rate  Time (sec)  Respiratory Rate\n",
       "0           7      184.05       30.56             93.75\n",
       "1           7      182.93       30.88             93.75\n",
       "2           7      182.93       32.56             50.85\n",
       "3           7      184.05       32.84             50.85\n",
       "4           7      184.05       33.18             96.77\n",
       "...       ...         ...         ...               ...\n",
       "48741       4      145.63   167495.94             23.81\n",
       "48742       4      135.14   167498.74             42.25\n",
       "48743       4      138.89   167499.18             45.45\n",
       "48744       4      140.85   167555.70             44.12\n",
       "48745       4      140.85   167555.84             68.18\n",
       "\n",
       "[48746 rows x 4 columns]"
      ]
     },
     "execution_count": 2,
     "metadata": {},
     "output_type": "execute_result"
    }
   ],
   "source": [
    "test_data = pd.read_csv(r\"dataset/test_data.csv\")\n",
    "test_data = test_data.round(2)\n",
    "test_data"
   ]
  },
  {
   "cell_type": "code",
   "execution_count": 3,
   "id": "f478b034",
   "metadata": {},
   "outputs": [],
   "source": [
    "X = test_data[['Time (sec)','Respiratory Rate']] # respiratory rate data\n",
    "y = test_data['Heart Rate']  # heart rate labels"
   ]
  },
  {
   "cell_type": "code",
   "execution_count": 4,
   "id": "b0133c9f",
   "metadata": {},
   "outputs": [],
   "source": [
    "sc = preprocessing.StandardScaler()\n",
    "X = sc.fit_transform(X)\n",
    "y =  sc.fit_transform(y.values.reshape(-1, 1))"
   ]
  },
  {
   "cell_type": "markdown",
   "id": "22558b94",
   "metadata": {},
   "source": [
    "## Load Models"
   ]
  },
  {
   "cell_type": "code",
   "execution_count": 5,
   "id": "c56debc9",
   "metadata": {},
   "outputs": [],
   "source": [
    "file_rf = \"models/random_forest.sav\"\n",
    "file_sv = \"models/support_vector.sav\""
   ]
  },
  {
   "cell_type": "code",
   "execution_count": 6,
   "id": "59cf30b0",
   "metadata": {},
   "outputs": [],
   "source": [
    "# load the model from disk\n",
    "rf_model = pickle.load(open(file_rf, 'rb'))\n",
    "sv_model = pickle.load(open(file_sv, 'rb'))"
   ]
  },
  {
   "cell_type": "markdown",
   "id": "b97b53a1",
   "metadata": {},
   "source": [
    "## Evaluate on entire test dataset"
   ]
  },
  {
   "cell_type": "code",
   "execution_count": 7,
   "id": "6c893f0b",
   "metadata": {},
   "outputs": [],
   "source": [
    "rf_pred = rf_model.predict(X)\n",
    "sv_pred = sv_model.predict(X)"
   ]
  },
  {
   "cell_type": "code",
   "execution_count": 8,
   "id": "fd567e6b",
   "metadata": {},
   "outputs": [
    {
     "name": "stdout",
     "output_type": "stream",
     "text": [
      "Random Forest Results\n",
      "Heart rate MSE: 1.3327835126045517\n",
      "Heart rate RMSE: 1.1544624344709324\n",
      "Heart rate MAE: 0.8550942274203684\n"
     ]
    }
   ],
   "source": [
    "print(\"Random Forest Results\")\n",
    "print(\"Heart rate MSE:\", mean_squared_error(y, rf_pred))\n",
    "print(\"Heart rate RMSE:\", mean_squared_error(y, rf_pred,squared=False))\n",
    "print(\"Heart rate MAE:\", mean_absolute_error(y, rf_pred))\n"
   ]
  },
  {
   "cell_type": "code",
   "execution_count": 9,
   "id": "0b0743d1",
   "metadata": {},
   "outputs": [
    {
     "name": "stdout",
     "output_type": "stream",
     "text": [
      "Support Vector Regression Results\n",
      "Heart rate MSE: 0.9800645130512564\n",
      "Heart rate RMSE: 0.9899820771363774\n",
      "Heart rate MAE: 0.7410193059121665\n"
     ]
    }
   ],
   "source": [
    "print(\"Support Vector Regression Results\")\n",
    "print(\"Heart rate MSE:\", mean_squared_error(y, sv_pred))\n",
    "print(\"Heart rate RMSE:\", mean_squared_error(y, sv_pred,squared=False))\n",
    "print(\"Heart rate MAE:\", mean_absolute_error(y, sv_pred))"
   ]
  },
  {
   "cell_type": "markdown",
   "id": "4e3dfa6b",
   "metadata": {},
   "source": [
    "## Split by Time"
   ]
  },
  {
   "cell_type": "markdown",
   "id": "1e431d8c",
   "metadata": {},
   "source": [
    "To compare the performance of our model with baseline, we will compute the error rate for different time windows. The error rate for 30 seconds, 1 minute and 3 minutes will be calculated."
   ]
  },
  {
   "cell_type": "code",
   "execution_count": 13,
   "id": "5756187d",
   "metadata": {},
   "outputs": [],
   "source": [
    "infants = [7,1,4]\n",
    "# split the test data by Infant\n",
    "grouped = test_data.groupby(['Infant'])\n",
    "df1 = grouped.get_group(infants[0])\n",
    "df2 = grouped.get_group(infants[1])\n",
    "df3 = grouped.get_group(infants[2])"
   ]
  },
  {
   "cell_type": "markdown",
   "id": "58642844",
   "metadata": {},
   "source": [
    "## 30 sec "
   ]
  },
  {
   "cell_type": "markdown",
   "id": "c493c135",
   "metadata": {},
   "source": [
    "The first 30 seconds of data from each infant is obtained to be used for testing."
   ]
  },
  {
   "cell_type": "code",
   "execution_count": 16,
   "id": "f4fd1981",
   "metadata": {},
   "outputs": [],
   "source": [
    "time_window = 30 "
   ]
  },
  {
   "cell_type": "code",
   "execution_count": 17,
   "id": "61aeadee",
   "metadata": {},
   "outputs": [],
   "source": [
    "# 30s of data from 1st test infant \n",
    "test_total= 0\n",
    "test_samples= []\n",
    "for i in range(len(df1)):\n",
    "    if test_total >= time_window:\n",
    "        break\n",
    "    test_total+=df1.iloc[1]['Time (sec)'] - df1.iloc[0]['Time (sec)']\n",
    "    test_samples.append(i)\n",
    "\n",
    "df1_30 = df1[:test_samples[-1]]"
   ]
  },
  {
   "cell_type": "code",
   "execution_count": 18,
   "id": "53b52bec",
   "metadata": {},
   "outputs": [],
   "source": [
    "# 30s of data from 2nd test infant\n",
    "\n",
    "test_total= 0\n",
    "test_samples = []\n",
    "for i in range(len(df2)):\n",
    "    if test_total >= time_window:\n",
    "        break\n",
    "    test_total+=df2.iloc[1]['Time (sec)'] - df2.iloc[0]['Time (sec)']\n",
    "    test_samples.append(i)\n",
    "\n",
    "df2_30 = df2[:test_samples[-1]]"
   ]
  },
  {
   "cell_type": "code",
   "execution_count": 19,
   "id": "1eccff73",
   "metadata": {},
   "outputs": [],
   "source": [
    "# 30s of data from 3rd test infant\n",
    "\n",
    "test_total= 0\n",
    "test_samples = []\n",
    "for i in range(len(df3)):\n",
    "    if test_total >= time_window:\n",
    "        break\n",
    "    test_total+=df3.iloc[1]['Time (sec)'] - df3.iloc[0]['Time (sec)']\n",
    "    test_samples.append(i)\n",
    "\n",
    "df3_30 = df3[:test_samples[-1]]"
   ]
  },
  {
   "cell_type": "code",
   "execution_count": 20,
   "id": "1051b31e",
   "metadata": {},
   "outputs": [],
   "source": [
    "# merge all the 30s data together\n",
    "df_final_30 = pd.concat([df1_30, df2_30,df3_30])\n",
    "\n",
    "X = df_final_30[['Time (sec)','Respiratory Rate']] # respiratory rate data\n",
    "y = df_final_30['Heart Rate']  # heart rate labels\n",
    "\n",
    "X = sc.fit_transform(X)\n",
    "y =  sc.fit_transform(y.values.reshape(-1, 1))\n",
    "\n",
    "rf_pred = rf_model.predict(X)\n",
    "sv_pred = sv_model.predict(X)"
   ]
  },
  {
   "cell_type": "code",
   "execution_count": 21,
   "id": "6f52fcbe",
   "metadata": {},
   "outputs": [
    {
     "name": "stdout",
     "output_type": "stream",
     "text": [
      "Random Forest Results for 30 sec of data\n",
      "Heart rate MSE: 1.4221711072385552\n",
      "Heart rate RMSE: 1.1925481571989265\n",
      "Heart rate MAE: 1.007906921173458\n"
     ]
    }
   ],
   "source": [
    "print(\"Random Forest Results for 30 sec of data\")\n",
    "print(\"Heart rate MSE:\", mean_squared_error(y, rf_pred))\n",
    "print(\"Heart rate RMSE:\", mean_squared_error(y, rf_pred,squared=False))\n",
    "print(\"Heart rate MAE:\", mean_absolute_error(y, rf_pred))"
   ]
  },
  {
   "cell_type": "code",
   "execution_count": 22,
   "id": "3905673e",
   "metadata": {},
   "outputs": [
    {
     "name": "stdout",
     "output_type": "stream",
     "text": [
      "Support Vector Regression Results for 30 sec of data\n",
      "Heart rate MSE: 1.009569649831331\n",
      "Heart rate RMSE: 1.0047734320887127\n",
      "Heart rate MAE: 0.9243302461398442\n"
     ]
    }
   ],
   "source": [
    "print(\"Support Vector Regression Results for 30 sec of data\")\n",
    "print(\"Heart rate MSE:\", mean_squared_error(y, sv_pred))\n",
    "print(\"Heart rate RMSE:\", mean_squared_error(y, sv_pred,squared=False))\n",
    "print(\"Heart rate MAE:\", mean_absolute_error(y, sv_pred))"
   ]
  },
  {
   "cell_type": "markdown",
   "id": "b76458bc",
   "metadata": {},
   "source": [
    "## 1 min window"
   ]
  },
  {
   "cell_type": "code",
   "execution_count": 23,
   "id": "6bf63547",
   "metadata": {},
   "outputs": [],
   "source": [
    "# 1 min = 60 seconds\n",
    "time_window = 60"
   ]
  },
  {
   "cell_type": "code",
   "execution_count": 29,
   "id": "23444219",
   "metadata": {},
   "outputs": [],
   "source": [
    "# 60s of data from 1st test infant \n",
    "test_total= 0\n",
    "test_samples= []\n",
    "for i in range(len(df1)):\n",
    "    if test_total >= time_window:\n",
    "        break\n",
    "    test_total+=df1.iloc[1]['Time (sec)'] - df1.iloc[0]['Time (sec)']\n",
    "    test_samples.append(i)\n",
    "\n",
    "df1_60 = df1[:test_samples[-1]]"
   ]
  },
  {
   "cell_type": "code",
   "execution_count": 30,
   "id": "ed727dc2",
   "metadata": {},
   "outputs": [],
   "source": [
    "# 60s of data from 3rd test infant\n",
    "\n",
    "test_total= 0\n",
    "test_samples = []\n",
    "for i in range(len(df2)):\n",
    "    if test_total >= time_window:\n",
    "        break\n",
    "    test_total+=df2.iloc[1]['Time (sec)'] - df2.iloc[0]['Time (sec)']\n",
    "    test_samples.append(i)\n",
    "\n",
    "df2_60 = df2[:test_samples[-1]]"
   ]
  },
  {
   "cell_type": "code",
   "execution_count": 31,
   "id": "bc95fc8d",
   "metadata": {},
   "outputs": [],
   "source": [
    "# 60s of data from 3rd test infant\n",
    "\n",
    "test_total= 0\n",
    "test_samples = []\n",
    "for i in range(len(df3)):\n",
    "    if test_total >= time_window:\n",
    "        break\n",
    "    test_total+=df3.iloc[1]['Time (sec)'] - df3.iloc[0]['Time (sec)']\n",
    "    test_samples.append(i)\n",
    "\n",
    "df3_60 = df3[:test_samples[-1]]"
   ]
  },
  {
   "cell_type": "code",
   "execution_count": 32,
   "id": "93519377",
   "metadata": {},
   "outputs": [],
   "source": [
    "# merge all the 60s data together\n",
    "df_final_60 = pd.concat([df1_60, df2_60,df3_60])\n",
    "\n",
    "X = df_final_60[['Time (sec)','Respiratory Rate']] # respiratory rate data\n",
    "y = df_final_60['Heart Rate']  # heart rate labels\n",
    "\n",
    "X = sc.fit_transform(X)\n",
    "y =  sc.fit_transform(y.values.reshape(-1, 1))\n",
    "\n",
    "rf_pred = rf_model.predict(X)\n",
    "sv_pred = sv_model.predict(X)"
   ]
  },
  {
   "cell_type": "code",
   "execution_count": 33,
   "id": "c7d4174a",
   "metadata": {},
   "outputs": [
    {
     "name": "stdout",
     "output_type": "stream",
     "text": [
      "Random Forest Results for 1 min of data\n",
      "Heart rate MSE: 1.3418216616264742\n",
      "Heart rate RMSE: 1.1583702610247184\n",
      "Heart rate MAE: 0.9951254417380324\n"
     ]
    }
   ],
   "source": [
    "print(\"Random Forest Results for 1 min of data\")\n",
    "print(\"Heart rate MSE:\", mean_squared_error(y, rf_pred))\n",
    "print(\"Heart rate RMSE:\", mean_squared_error(y, rf_pred,squared=False))\n",
    "print(\"Heart rate MAE:\", mean_absolute_error(y, rf_pred))"
   ]
  },
  {
   "cell_type": "code",
   "execution_count": 34,
   "id": "531714e4",
   "metadata": {},
   "outputs": [
    {
     "name": "stdout",
     "output_type": "stream",
     "text": [
      "Support Vector Regression Results for 1 min of data\n",
      "Heart rate MSE: 0.9895522236592936\n",
      "Heart rate RMSE: 0.9947623955796145\n",
      "Heart rate MAE: 0.8680876889930136\n"
     ]
    }
   ],
   "source": [
    "print(\"Support Vector Regression Results for 1 min of data\")\n",
    "print(\"Heart rate MSE:\", mean_squared_error(y, sv_pred))\n",
    "print(\"Heart rate RMSE:\", mean_squared_error(y, sv_pred,squared=False))\n",
    "print(\"Heart rate MAE:\", mean_absolute_error(y, sv_pred))"
   ]
  },
  {
   "cell_type": "markdown",
   "id": "b620b50a",
   "metadata": {},
   "source": [
    "## 3 Minutes"
   ]
  },
  {
   "cell_type": "code",
   "execution_count": 35,
   "id": "4dd1953e",
   "metadata": {},
   "outputs": [],
   "source": [
    "# 3 minutes = 180 secs\n",
    "time_window = 180 "
   ]
  },
  {
   "cell_type": "code",
   "execution_count": 39,
   "id": "3f32234a",
   "metadata": {},
   "outputs": [],
   "source": [
    "# 60s of data from 1st test infant \n",
    "test_total= 0\n",
    "test_samples= []\n",
    "for i in range(len(df1)):\n",
    "    if test_total >= time_window:\n",
    "        break\n",
    "    test_total+=df1.iloc[1]['Time (sec)'] - df1.iloc[0]['Time (sec)']\n",
    "    test_samples.append(i)\n",
    "\n",
    "df1_180 = df1[:test_samples[-1]]"
   ]
  },
  {
   "cell_type": "code",
   "execution_count": 40,
   "id": "89d7e11e",
   "metadata": {},
   "outputs": [],
   "source": [
    "# 60s of data from 3rd test infant\n",
    "\n",
    "test_total= 0\n",
    "test_samples = []\n",
    "for i in range(len(df2)):\n",
    "    if test_total >= time_window:\n",
    "        break\n",
    "    test_total+=df2.iloc[1]['Time (sec)'] - df2.iloc[0]['Time (sec)']\n",
    "    test_samples.append(i)\n",
    "\n",
    "df2_180 = df2[:test_samples[-1]]"
   ]
  },
  {
   "cell_type": "code",
   "execution_count": 41,
   "id": "b3b02a5e",
   "metadata": {},
   "outputs": [],
   "source": [
    "# 60s of data from 3rd test infant\n",
    "\n",
    "test_total= 0\n",
    "test_samples = []\n",
    "for i in range(len(df3)):\n",
    "    if test_total >= time_window:\n",
    "        break\n",
    "    test_total+=df3.iloc[1]['Time (sec)'] - df3.iloc[0]['Time (sec)']\n",
    "    test_samples.append(i)\n",
    "\n",
    "df3_180 = df3[:test_samples[-1]]"
   ]
  },
  {
   "cell_type": "code",
   "execution_count": 42,
   "id": "fcdf63c3",
   "metadata": {},
   "outputs": [],
   "source": [
    "# merge all the 60s data together\n",
    "df_final_180 = pd.concat([df1_180, df2_180,df3_180])\n",
    "\n",
    "X = df_final_180[['Time (sec)','Respiratory Rate']] # respiratory rate data\n",
    "y = df_final_180['Heart Rate']  # heart rate labels\n",
    "\n",
    "X = sc.fit_transform(X)\n",
    "y =  sc.fit_transform(y.values.reshape(-1, 1))\n",
    "\n",
    "rf_pred = rf_model.predict(X)\n",
    "sv_pred = sv_model.predict(X)"
   ]
  },
  {
   "cell_type": "code",
   "execution_count": 43,
   "id": "e7b9f9c2",
   "metadata": {},
   "outputs": [
    {
     "name": "stdout",
     "output_type": "stream",
     "text": [
      "Random Forest Results for 3 min of data\n",
      "Heart rate MSE: 1.3592250796820944\n",
      "Heart rate RMSE: 1.1658580872825364\n",
      "Heart rate MAE: 0.9186499128408957\n"
     ]
    }
   ],
   "source": [
    "print(\"Random Forest Results for 3 min of data\")\n",
    "print(\"Heart rate MSE:\", mean_squared_error(y, rf_pred))\n",
    "print(\"Heart rate RMSE:\", mean_squared_error(y, rf_pred,squared=False))\n",
    "print(\"Heart rate MAE:\", mean_absolute_error(y, rf_pred))"
   ]
  },
  {
   "cell_type": "code",
   "execution_count": 44,
   "id": "630f60a4",
   "metadata": {},
   "outputs": [
    {
     "name": "stdout",
     "output_type": "stream",
     "text": [
      "Support Vector Regression Results for 3min of data\n",
      "Heart rate MSE: 0.9643099533756974\n",
      "Heart rate RMSE: 0.9819928479249211\n",
      "Heart rate MAE: 0.7920130793516673\n"
     ]
    }
   ],
   "source": [
    "print(\"Support Vector Regression Results for 3min of data\")\n",
    "print(\"Heart rate MSE:\", mean_squared_error(y, sv_pred))\n",
    "print(\"Heart rate RMSE:\", mean_squared_error(y, sv_pred,squared=False))\n",
    "print(\"Heart rate MAE:\", mean_absolute_error(y, sv_pred))"
   ]
  }
 ],
 "metadata": {
  "kernelspec": {
   "display_name": "general",
   "language": "python",
   "name": "general"
  },
  "language_info": {
   "codemirror_mode": {
    "name": "ipython",
    "version": 3
   },
   "file_extension": ".py",
   "mimetype": "text/x-python",
   "name": "python",
   "nbconvert_exporter": "python",
   "pygments_lexer": "ipython3",
   "version": "3.10.4"
  }
 },
 "nbformat": 4,
 "nbformat_minor": 5
}
