{
 "cells": [
  {
   "cell_type": "code",
   "execution_count": 7,
   "id": "fd2279af",
   "metadata": {},
   "outputs": [],
   "source": [
    "import os\n",
    "import numpy as np\n",
    "import matplotlib.pyplot as plt\n",
    "import wfdb \n",
    "from wfdb import processing\n",
    "import pandas as pd\n",
    "from tqdm import tqdm\n",
    "from math import isnan\n",
    "from scipy.stats import pearsonr,spearmanr\n",
    "import warnings\n",
    "warnings.filterwarnings('ignore')"
   ]
  },
  {
   "cell_type": "markdown",
   "id": "4291168d",
   "metadata": {},
   "source": [
    "## Obtaining Heart Rate and Respiratory Rate"
   ]
  },
  {
   "cell_type": "code",
   "execution_count": 2,
   "id": "4c26b29e",
   "metadata": {},
   "outputs": [],
   "source": [
    "dataset_dir = r'preterm-infant-cardio-respiratory-signals-database-1.0.0'"
   ]
  },
  {
   "cell_type": "code",
   "execution_count": 3,
   "id": "032e15e7",
   "metadata": {},
   "outputs": [],
   "source": [
    "# get one sample to test\n",
    "file_index = 2\n",
    "file_ecg = os.path.join(dataset_dir, f\"infant{file_index:d}_ecg\")\n",
    "file_resp = os.path.join(dataset_dir, f\"infant{file_index:d}_resp\")"
   ]
  },
  {
   "cell_type": "code",
   "execution_count": 4,
   "id": "cb050778",
   "metadata": {},
   "outputs": [],
   "source": [
    "# read the ecg and resp signals \n",
    "\n",
    "record_ecg = wfdb.rdrecord(file_ecg)\n",
    "record_resp = wfdb.rdrecord(file_resp)\n",
    "\n",
    "# read the annotations files and get r peaks and respiratory peaks\n",
    "r_peaks = wfdb.io.rdann(file_ecg, 'qrsc')\n",
    "resp_peaks = wfdb.io.rdann(file_resp, 'resp')"
   ]
  },
  {
   "cell_type": "code",
   "execution_count": 5,
   "id": "08c97d58",
   "metadata": {},
   "outputs": [],
   "source": [
    "# compute_hr function from wfdb library\n",
    "\n",
    "def compute_hr(sig_len, qrs_inds, fs):\n",
    "    \"\"\"\n",
    "    Compute instantaneous heart rate from peak indices.\n",
    "    Parameters\n",
    "    ----------\n",
    "    sig_len : int\n",
    "        The length of the corresponding signal.\n",
    "    qrs_inds : ndarray\n",
    "        The QRS index locations.\n",
    "    fs : int, float\n",
    "        The corresponding signal's sampling frequency.\n",
    "    Returns\n",
    "    -------\n",
    "    heart_rate : ndarray\n",
    "        An array of the instantaneous heart rate, with the length of the\n",
    "        corresponding signal. Contains numpy.nan where heart rate could\n",
    "        not be computed.\n",
    "    \"\"\"\n",
    "    heart_rate = np.full(sig_len, np.nan, dtype=\"float32\")\n",
    "\n",
    "    if len(qrs_inds) < 2:\n",
    "        return heart_rate\n",
    "\n",
    "    for i in range(0, len(qrs_inds) - 2):\n",
    "        a = qrs_inds[i]\n",
    "        b = qrs_inds[i + 1]\n",
    "        c = qrs_inds[i + 2]\n",
    "        rr = (b - a) * (1.0 / fs) * 1000\n",
    "        hr = 60000.0 / rr\n",
    "        heart_rate[b + 1 : c + 1] = hr\n",
    "\n",
    "    heart_rate[qrs_inds[-1] :] = heart_rate[qrs_inds[-1]]\n",
    "\n",
    "    return heart_rate"
   ]
  },
  {
   "cell_type": "code",
   "execution_count": 43,
   "id": "d70081f4",
   "metadata": {},
   "outputs": [],
   "source": [
    "def compute_hr_custom(r_peak_1, r_peak_2, fs):\n",
    "    \n",
    "    a = r_peak_1\n",
    "    b = r_peak_2\n",
    "    rr = (b - a) * (1.0 / fs)\n",
    "    hr = 60 / rr\n",
    "    return hr"
   ]
  },
  {
   "cell_type": "code",
   "execution_count": 36,
   "id": "e89d51e9",
   "metadata": {},
   "outputs": [],
   "source": [
    "# calculate heart rate and breathing rate\n",
    "\n",
    "heart_rate = processing.compute_hr(len(record_ecg.p_signal),r_peaks.sample,record_ecg.fs)\n",
    "breathing_rate = processing.compute_hr(len(record_resp.p_signal),resp_peaks.sample,record_resp.fs)"
   ]
  },
  {
   "cell_type": "code",
   "execution_count": 52,
   "id": "78eb1629",
   "metadata": {},
   "outputs": [
    {
     "name": "stdout",
     "output_type": "stream",
     "text": [
      "Heart Rate obtained from our own custom function: 118.11\n",
      "Heart Rate obtained from WFDB's compute_hr function : 118.11\n"
     ]
    }
   ],
   "source": [
    "custom_hr = compute_hr_custom(r_peaks.sample[0],r_peaks.sample[1],record_ecg.fs)\n",
    "wfdb_hr = next(x for x in heart_rate if not isnan(x))\n",
    "\n",
    "print(\"Heart Rate obtained from our own custom function: \" + str(round(custom_hr,2)))\n",
    "print(\"Heart Rate obtained from WFDB's compute_hr function : \" + str(round(wfdb_hr,2)))\n"
   ]
  },
  {
   "cell_type": "markdown",
   "id": "904e94e7",
   "metadata": {},
   "source": [
    "We created a our own function to calculate the heart and respiratory rates based on the peak locations and compared it from the values obtained using WFDB's compute_hr function, the output is the same. Therefore for simplicity purposes, we will just use the WFDB's version to get the whole array of instantaneous heart/respiratory rate. "
   ]
  },
  {
   "cell_type": "code",
   "execution_count": 29,
   "id": "b376753e",
   "metadata": {},
   "outputs": [
    {
     "name": "stdout",
     "output_type": "stream",
     "text": [
      "ECG sampling frequency:  500  Hz\n",
      "ECG sampling interval every  0.002  sec.\n",
      "RESP sampling frequency:  50  Hz\n",
      "RESP sampling interval every  0.02  sec.\n"
     ]
    }
   ],
   "source": [
    "# get the sampling interval \n",
    "\n",
    "ecg_samp_interval = 1/record_ecg.fs\n",
    "resp_samp_interval = 1/record_resp.fs\n",
    "print(\"ECG sampling frequency: \", record_ecg.fs, \" Hz\")\n",
    "print(\"ECG sampling interval every \", ecg_samp_interval, \" sec.\")\n",
    "print(\"RESP sampling frequency: \", record_resp.fs, \" Hz\")\n",
    "print(\"RESP sampling interval every \", resp_samp_interval, \" sec.\")\n"
   ]
  },
  {
   "cell_type": "code",
   "execution_count": 30,
   "id": "f2d2d123",
   "metadata": {},
   "outputs": [],
   "source": [
    "# get the time axis\n",
    "\n",
    "time_ecg = np.arange(record_ecg.p_signal.shape[0])*ecg_samp_interval # ECG time axis\n",
    "time_resp = np.arange(record_resp.p_signal.shape[0])*resp_samp_interval # RESP time axis"
   ]
  },
  {
   "cell_type": "code",
   "execution_count": 31,
   "id": "428c2c93",
   "metadata": {},
   "outputs": [],
   "source": [
    "# create heart rate and respiratory rate dataframe \n",
    "\n",
    "heart_data = {\n",
    "    'Infant':file_index,\n",
    "    'Heart Rate': heart_rate,\n",
    "    'Time (sec)': time_ecg,\n",
    "        }\n",
    "resp_data  = {\n",
    "     'Infant':file_index,\n",
    "    'Respiratory Rate':breathing_rate,\n",
    "       'Time (sec)':time_resp,}\n",
    "\n",
    "heart_df = pd.DataFrame.from_dict(heart_data) \n",
    "resp_df = pd.DataFrame.from_dict(resp_data) "
   ]
  },
  {
   "cell_type": "code",
   "execution_count": 32,
   "id": "f76a143f",
   "metadata": {},
   "outputs": [
    {
     "name": "stdout",
     "output_type": "stream",
     "text": [
      "Heart DF:\n"
     ]
    },
    {
     "data": {
      "text/html": [
       "<div>\n",
       "<style scoped>\n",
       "    .dataframe tbody tr th:only-of-type {\n",
       "        vertical-align: middle;\n",
       "    }\n",
       "\n",
       "    .dataframe tbody tr th {\n",
       "        vertical-align: top;\n",
       "    }\n",
       "\n",
       "    .dataframe thead th {\n",
       "        text-align: right;\n",
       "    }\n",
       "</style>\n",
       "<table border=\"1\" class=\"dataframe\">\n",
       "  <thead>\n",
       "    <tr style=\"text-align: right;\">\n",
       "      <th></th>\n",
       "      <th>Infant</th>\n",
       "      <th>Heart Rate</th>\n",
       "      <th>Time (sec)</th>\n",
       "    </tr>\n",
       "  </thead>\n",
       "  <tbody>\n",
       "    <tr>\n",
       "      <th>0</th>\n",
       "      <td>2</td>\n",
       "      <td>NaN</td>\n",
       "      <td>0.000</td>\n",
       "    </tr>\n",
       "    <tr>\n",
       "      <th>1</th>\n",
       "      <td>2</td>\n",
       "      <td>NaN</td>\n",
       "      <td>0.002</td>\n",
       "    </tr>\n",
       "    <tr>\n",
       "      <th>2</th>\n",
       "      <td>2</td>\n",
       "      <td>NaN</td>\n",
       "      <td>0.004</td>\n",
       "    </tr>\n",
       "    <tr>\n",
       "      <th>3</th>\n",
       "      <td>2</td>\n",
       "      <td>NaN</td>\n",
       "      <td>0.006</td>\n",
       "    </tr>\n",
       "    <tr>\n",
       "      <th>4</th>\n",
       "      <td>2</td>\n",
       "      <td>NaN</td>\n",
       "      <td>0.008</td>\n",
       "    </tr>\n",
       "    <tr>\n",
       "      <th>...</th>\n",
       "      <td>...</td>\n",
       "      <td>...</td>\n",
       "      <td>...</td>\n",
       "    </tr>\n",
       "    <tr>\n",
       "      <th>78915995</th>\n",
       "      <td>2</td>\n",
       "      <td>135.135132</td>\n",
       "      <td>157831.990</td>\n",
       "    </tr>\n",
       "    <tr>\n",
       "      <th>78915996</th>\n",
       "      <td>2</td>\n",
       "      <td>135.135132</td>\n",
       "      <td>157831.992</td>\n",
       "    </tr>\n",
       "    <tr>\n",
       "      <th>78915997</th>\n",
       "      <td>2</td>\n",
       "      <td>135.135132</td>\n",
       "      <td>157831.994</td>\n",
       "    </tr>\n",
       "    <tr>\n",
       "      <th>78915998</th>\n",
       "      <td>2</td>\n",
       "      <td>135.135132</td>\n",
       "      <td>157831.996</td>\n",
       "    </tr>\n",
       "    <tr>\n",
       "      <th>78915999</th>\n",
       "      <td>2</td>\n",
       "      <td>135.135132</td>\n",
       "      <td>157831.998</td>\n",
       "    </tr>\n",
       "  </tbody>\n",
       "</table>\n",
       "<p>78916000 rows × 3 columns</p>\n",
       "</div>"
      ],
      "text/plain": [
       "          Infant  Heart Rate  Time (sec)\n",
       "0              2         NaN       0.000\n",
       "1              2         NaN       0.002\n",
       "2              2         NaN       0.004\n",
       "3              2         NaN       0.006\n",
       "4              2         NaN       0.008\n",
       "...          ...         ...         ...\n",
       "78915995       2  135.135132  157831.990\n",
       "78915996       2  135.135132  157831.992\n",
       "78915997       2  135.135132  157831.994\n",
       "78915998       2  135.135132  157831.996\n",
       "78915999       2  135.135132  157831.998\n",
       "\n",
       "[78916000 rows x 3 columns]"
      ]
     },
     "execution_count": 32,
     "metadata": {},
     "output_type": "execute_result"
    }
   ],
   "source": [
    "print(\"Heart DF:\")\n",
    "heart_df\n"
   ]
  },
  {
   "cell_type": "code",
   "execution_count": 33,
   "id": "b89e1aec",
   "metadata": {},
   "outputs": [
    {
     "name": "stdout",
     "output_type": "stream",
     "text": [
      "Respiratory DF:\n"
     ]
    },
    {
     "data": {
      "text/html": [
       "<div>\n",
       "<style scoped>\n",
       "    .dataframe tbody tr th:only-of-type {\n",
       "        vertical-align: middle;\n",
       "    }\n",
       "\n",
       "    .dataframe tbody tr th {\n",
       "        vertical-align: top;\n",
       "    }\n",
       "\n",
       "    .dataframe thead th {\n",
       "        text-align: right;\n",
       "    }\n",
       "</style>\n",
       "<table border=\"1\" class=\"dataframe\">\n",
       "  <thead>\n",
       "    <tr style=\"text-align: right;\">\n",
       "      <th></th>\n",
       "      <th>Infant</th>\n",
       "      <th>Respiratory Rate</th>\n",
       "      <th>Time (sec)</th>\n",
       "    </tr>\n",
       "  </thead>\n",
       "  <tbody>\n",
       "    <tr>\n",
       "      <th>0</th>\n",
       "      <td>2</td>\n",
       "      <td>NaN</td>\n",
       "      <td>0.00</td>\n",
       "    </tr>\n",
       "    <tr>\n",
       "      <th>1</th>\n",
       "      <td>2</td>\n",
       "      <td>NaN</td>\n",
       "      <td>0.02</td>\n",
       "    </tr>\n",
       "    <tr>\n",
       "      <th>2</th>\n",
       "      <td>2</td>\n",
       "      <td>NaN</td>\n",
       "      <td>0.04</td>\n",
       "    </tr>\n",
       "    <tr>\n",
       "      <th>3</th>\n",
       "      <td>2</td>\n",
       "      <td>NaN</td>\n",
       "      <td>0.06</td>\n",
       "    </tr>\n",
       "    <tr>\n",
       "      <th>4</th>\n",
       "      <td>2</td>\n",
       "      <td>NaN</td>\n",
       "      <td>0.08</td>\n",
       "    </tr>\n",
       "    <tr>\n",
       "      <th>...</th>\n",
       "      <td>...</td>\n",
       "      <td>...</td>\n",
       "      <td>...</td>\n",
       "    </tr>\n",
       "    <tr>\n",
       "      <th>7891428</th>\n",
       "      <td>2</td>\n",
       "      <td>76.92308</td>\n",
       "      <td>157828.56</td>\n",
       "    </tr>\n",
       "    <tr>\n",
       "      <th>7891429</th>\n",
       "      <td>2</td>\n",
       "      <td>76.92308</td>\n",
       "      <td>157828.58</td>\n",
       "    </tr>\n",
       "    <tr>\n",
       "      <th>7891430</th>\n",
       "      <td>2</td>\n",
       "      <td>76.92308</td>\n",
       "      <td>157828.60</td>\n",
       "    </tr>\n",
       "    <tr>\n",
       "      <th>7891431</th>\n",
       "      <td>2</td>\n",
       "      <td>76.92308</td>\n",
       "      <td>157828.62</td>\n",
       "    </tr>\n",
       "    <tr>\n",
       "      <th>7891432</th>\n",
       "      <td>2</td>\n",
       "      <td>76.92308</td>\n",
       "      <td>157828.64</td>\n",
       "    </tr>\n",
       "  </tbody>\n",
       "</table>\n",
       "<p>7891433 rows × 3 columns</p>\n",
       "</div>"
      ],
      "text/plain": [
       "         Infant  Respiratory Rate  Time (sec)\n",
       "0             2               NaN        0.00\n",
       "1             2               NaN        0.02\n",
       "2             2               NaN        0.04\n",
       "3             2               NaN        0.06\n",
       "4             2               NaN        0.08\n",
       "...         ...               ...         ...\n",
       "7891428       2          76.92308   157828.56\n",
       "7891429       2          76.92308   157828.58\n",
       "7891430       2          76.92308   157828.60\n",
       "7891431       2          76.92308   157828.62\n",
       "7891432       2          76.92308   157828.64\n",
       "\n",
       "[7891433 rows x 3 columns]"
      ]
     },
     "execution_count": 33,
     "metadata": {},
     "output_type": "execute_result"
    }
   ],
   "source": [
    "print(\"Respiratory DF:\")\n",
    "resp_df"
   ]
  },
  {
   "cell_type": "markdown",
   "id": "68d804e7",
   "metadata": {},
   "source": [
    "Due to the different sampling interval, we can see that the number of data for heart rate and respiratory rate is uneven.<br />\n",
    "There is a heart rate every 0.002 sec while there is only a respiratory rate every 0.02 sec, causing the number of heart rate to be significantly larger. <br />\n",
    "The time where either respiratory rate or heart rate is NaN will be dropped. Only the time where both heart rate and respiratory rate is present will be kept. "
   ]
  },
  {
   "cell_type": "code",
   "execution_count": 34,
   "id": "636858b5",
   "metadata": {},
   "outputs": [],
   "source": [
    "# drop the NaN rows\n",
    "resp_df=resp_df.dropna()\n",
    "resp_df=resp_df.dropna().reset_index(drop=True)\n",
    "\n",
    "heart_df=heart_df.dropna()\n",
    "heart_df=heart_df.dropna().reset_index(drop=True)"
   ]
  },
  {
   "cell_type": "code",
   "execution_count": 35,
   "id": "a8fbb7f7",
   "metadata": {},
   "outputs": [
    {
     "data": {
      "text/html": [
       "<div>\n",
       "<style scoped>\n",
       "    .dataframe tbody tr th:only-of-type {\n",
       "        vertical-align: middle;\n",
       "    }\n",
       "\n",
       "    .dataframe tbody tr th {\n",
       "        vertical-align: top;\n",
       "    }\n",
       "\n",
       "    .dataframe thead th {\n",
       "        text-align: right;\n",
       "    }\n",
       "</style>\n",
       "<table border=\"1\" class=\"dataframe\">\n",
       "  <thead>\n",
       "    <tr style=\"text-align: right;\">\n",
       "      <th></th>\n",
       "      <th>Infant</th>\n",
       "      <th>Heart Rate</th>\n",
       "      <th>Time (sec)</th>\n",
       "      <th>Respiratory Rate</th>\n",
       "    </tr>\n",
       "  </thead>\n",
       "  <tbody>\n",
       "    <tr>\n",
       "      <th>0</th>\n",
       "      <td>2</td>\n",
       "      <td>118.110237</td>\n",
       "      <td>409.98</td>\n",
       "      <td>0.556174</td>\n",
       "    </tr>\n",
       "    <tr>\n",
       "      <th>1</th>\n",
       "      <td>2</td>\n",
       "      <td>118.110237</td>\n",
       "      <td>410.00</td>\n",
       "      <td>0.556174</td>\n",
       "    </tr>\n",
       "    <tr>\n",
       "      <th>2</th>\n",
       "      <td>2</td>\n",
       "      <td>118.110237</td>\n",
       "      <td>410.02</td>\n",
       "      <td>0.556174</td>\n",
       "    </tr>\n",
       "    <tr>\n",
       "      <th>3</th>\n",
       "      <td>2</td>\n",
       "      <td>118.110237</td>\n",
       "      <td>410.04</td>\n",
       "      <td>0.556174</td>\n",
       "    </tr>\n",
       "    <tr>\n",
       "      <th>4</th>\n",
       "      <td>2</td>\n",
       "      <td>118.110237</td>\n",
       "      <td>410.06</td>\n",
       "      <td>0.556174</td>\n",
       "    </tr>\n",
       "    <tr>\n",
       "      <th>...</th>\n",
       "      <td>...</td>\n",
       "      <td>...</td>\n",
       "      <td>...</td>\n",
       "      <td>...</td>\n",
       "    </tr>\n",
       "    <tr>\n",
       "      <th>7870929</th>\n",
       "      <td>2</td>\n",
       "      <td>132.743362</td>\n",
       "      <td>157828.56</td>\n",
       "      <td>76.923080</td>\n",
       "    </tr>\n",
       "    <tr>\n",
       "      <th>7870930</th>\n",
       "      <td>2</td>\n",
       "      <td>132.743362</td>\n",
       "      <td>157828.58</td>\n",
       "      <td>76.923080</td>\n",
       "    </tr>\n",
       "    <tr>\n",
       "      <th>7870931</th>\n",
       "      <td>2</td>\n",
       "      <td>132.743362</td>\n",
       "      <td>157828.60</td>\n",
       "      <td>76.923080</td>\n",
       "    </tr>\n",
       "    <tr>\n",
       "      <th>7870932</th>\n",
       "      <td>2</td>\n",
       "      <td>132.743362</td>\n",
       "      <td>157828.62</td>\n",
       "      <td>76.923080</td>\n",
       "    </tr>\n",
       "    <tr>\n",
       "      <th>7870933</th>\n",
       "      <td>2</td>\n",
       "      <td>132.743362</td>\n",
       "      <td>157828.64</td>\n",
       "      <td>76.923080</td>\n",
       "    </tr>\n",
       "  </tbody>\n",
       "</table>\n",
       "<p>7870934 rows × 4 columns</p>\n",
       "</div>"
      ],
      "text/plain": [
       "         Infant  Heart Rate  Time (sec)  Respiratory Rate\n",
       "0             2  118.110237      409.98          0.556174\n",
       "1             2  118.110237      410.00          0.556174\n",
       "2             2  118.110237      410.02          0.556174\n",
       "3             2  118.110237      410.04          0.556174\n",
       "4             2  118.110237      410.06          0.556174\n",
       "...         ...         ...         ...               ...\n",
       "7870929       2  132.743362   157828.56         76.923080\n",
       "7870930       2  132.743362   157828.58         76.923080\n",
       "7870931       2  132.743362   157828.60         76.923080\n",
       "7870932       2  132.743362   157828.62         76.923080\n",
       "7870933       2  132.743362   157828.64         76.923080\n",
       "\n",
       "[7870934 rows x 4 columns]"
      ]
     },
     "execution_count": 35,
     "metadata": {},
     "output_type": "execute_result"
    }
   ],
   "source": [
    "# merge the two dataframe together with respect to the same Time (sec) column\n",
    "merged_df = pd.merge(heart_df, resp_df, how='inner', on = ['Time (sec)','Infant'])\n",
    "merged_df"
   ]
  },
  {
   "cell_type": "code",
   "execution_count": 82,
   "id": "a36751fc",
   "metadata": {},
   "outputs": [],
   "source": [
    "# export the data to csv\n",
    "#merged_df.to_csv('dataset/infant_'+str(file_index)+'.csv', index=False)\n"
   ]
  },
  {
   "cell_type": "code",
   "execution_count": 36,
   "id": "28e6cc84",
   "metadata": {},
   "outputs": [
    {
     "name": "stdout",
     "output_type": "stream",
     "text": [
      "Pearsons correlation score: 0.109\n"
     ]
    },
    {
     "data": {
      "text/plain": [
       "<matplotlib.collections.PathCollection at 0x28e7eb06e00>"
      ]
     },
     "execution_count": 36,
     "metadata": {},
     "output_type": "execute_result"
    },
    {
     "data": {
      "image/png": "[encoded data removed]",
      "text/plain": [
       "<Figure size 432x288 with 1 Axes>"
      ]
     },
     "metadata": {
      "needs_background": "light"
     },
     "output_type": "display_data"
    }
   ],
   "source": [
    "# calculate Pearson's correlation\n",
    "\n",
    "corr, pvalue = pearsonr(np.array(merged_df['Heart Rate']), np.array(merged_df['Respiratory Rate']))\n",
    "print('Pearsons correlation score: %.3f' % corr)\n",
    "plt.scatter(np.array(merged_df['Heart Rate']), np.array(merged_df['Respiratory Rate']))"
   ]
  },
  {
   "cell_type": "markdown",
   "id": "bf295f7c",
   "metadata": {},
   "source": [
    "##  Loop for all other data"
   ]
  },
  {
   "cell_type": "code",
   "execution_count": 37,
   "id": "f6738ac5",
   "metadata": {},
   "outputs": [
    {
     "name": "stderr",
     "output_type": "stream",
     "text": [
      "\r",
      "  0%|                                                                                           | 0/10 [00:00<?, ?it/s]"
     ]
    },
    {
     "name": "stdout",
     "output_type": "stream",
     "text": [
      "1\n",
      "ECG sampling frequency:  250  Hz\n",
      "ECG sampling interval every  0.004  sec.\n",
      "RESP sampling frequency:  500  Hz\n",
      "RESP sampling interval every =  0.002  sec.\n",
      "\n",
      "\n"
     ]
    },
    {
     "name": "stderr",
     "output_type": "stream",
     "text": [
      "\r",
      " 10%|████████▏                                                                         | 1/10 [02:50<25:30, 170.08s/it]"
     ]
    },
    {
     "name": "stdout",
     "output_type": "stream",
     "text": [
      "2\n",
      "ECG sampling frequency:  500  Hz\n",
      "ECG sampling interval every  0.002  sec.\n",
      "RESP sampling frequency:  50  Hz\n",
      "RESP sampling interval every =  0.02  sec.\n",
      "\n",
      "\n"
     ]
    },
    {
     "name": "stderr",
     "output_type": "stream",
     "text": [
      "\r",
      " 20%|████████████████▍                                                                 | 2/10 [04:19<16:22, 122.84s/it]"
     ]
    },
    {
     "name": "stdout",
     "output_type": "stream",
     "text": [
      "3\n",
      "ECG sampling frequency:  500  Hz\n",
      "ECG sampling interval every  0.002  sec.\n",
      "RESP sampling frequency:  50  Hz\n",
      "RESP sampling interval every =  0.02  sec.\n",
      "\n",
      "\n"
     ]
    },
    {
     "name": "stderr",
     "output_type": "stream",
     "text": [
      "\r",
      " 30%|████████████████████████▌                                                         | 3/10 [05:52<12:42, 108.92s/it]"
     ]
    },
    {
     "name": "stdout",
     "output_type": "stream",
     "text": [
      "4\n",
      "ECG sampling frequency:  500  Hz\n",
      "ECG sampling interval every  0.002  sec.\n",
      "RESP sampling frequency:  50  Hz\n",
      "RESP sampling interval every =  0.02  sec.\n",
      "\n",
      "\n"
     ]
    },
    {
     "name": "stderr",
     "output_type": "stream",
     "text": [
      "\r",
      " 40%|████████████████████████████████▊                                                 | 4/10 [07:31<10:31, 105.23s/it]"
     ]
    },
    {
     "name": "stdout",
     "output_type": "stream",
     "text": [
      "5\n",
      "ECG sampling frequency:  250  Hz\n",
      "ECG sampling interval every  0.004  sec.\n",
      "RESP sampling frequency:  50  Hz\n",
      "RESP sampling interval every =  0.02  sec.\n",
      "\n",
      "\n"
     ]
    },
    {
     "name": "stderr",
     "output_type": "stream",
     "text": [
      "\r",
      " 50%|█████████████████████████████████████████▌                                         | 5/10 [08:30<07:21, 88.39s/it]"
     ]
    },
    {
     "name": "stdout",
     "output_type": "stream",
     "text": [
      "6\n",
      "ECG sampling frequency:  500  Hz\n",
      "ECG sampling interval every  0.002  sec.\n",
      "RESP sampling frequency:  50  Hz\n",
      "RESP sampling interval every =  0.02  sec.\n",
      "\n",
      "\n"
     ]
    },
    {
     "name": "stderr",
     "output_type": "stream",
     "text": [
      "\r",
      " 60%|█████████████████████████████████████████████████▊                                 | 6/10 [10:12<06:11, 92.97s/it]"
     ]
    },
    {
     "name": "stdout",
     "output_type": "stream",
     "text": [
      "7\n",
      "ECG sampling frequency:  500  Hz\n",
      "ECG sampling interval every  0.002  sec.\n",
      "RESP sampling frequency:  50  Hz\n",
      "RESP sampling interval every =  0.02  sec.\n",
      "\n",
      "\n"
     ]
    },
    {
     "name": "stderr",
     "output_type": "stream",
     "text": [
      "\r",
      " 70%|██████████████████████████████████████████████████████████                         | 7/10 [10:54<03:49, 76.48s/it]"
     ]
    },
    {
     "name": "stdout",
     "output_type": "stream",
     "text": [
      "8\n",
      "ECG sampling frequency:  500  Hz\n",
      "ECG sampling interval every  0.002  sec.\n",
      "RESP sampling frequency:  50  Hz\n",
      "RESP sampling interval every =  0.02  sec.\n",
      "\n",
      "\n"
     ]
    },
    {
     "name": "stderr",
     "output_type": "stream",
     "text": [
      "\r",
      " 80%|██████████████████████████████████████████████████████████████████▍                | 8/10 [11:43<02:15, 67.82s/it]"
     ]
    },
    {
     "name": "stdout",
     "output_type": "stream",
     "text": [
      "9\n",
      "ECG sampling frequency:  500  Hz\n",
      "ECG sampling interval every  0.002  sec.\n",
      "RESP sampling frequency:  50  Hz\n",
      "RESP sampling interval every =  0.02  sec.\n",
      "\n",
      "\n"
     ]
    },
    {
     "name": "stderr",
     "output_type": "stream",
     "text": [
      "\r",
      " 90%|██████████████████████████████████████████████████████████████████████████▋        | 9/10 [14:28<01:38, 98.15s/it]"
     ]
    },
    {
     "name": "stdout",
     "output_type": "stream",
     "text": [
      "10\n",
      "ECG sampling frequency:  500  Hz\n",
      "ECG sampling interval every  0.002  sec.\n",
      "RESP sampling frequency:  50  Hz\n",
      "RESP sampling interval every =  0.02  sec.\n",
      "\n",
      "\n"
     ]
    },
    {
     "name": "stderr",
     "output_type": "stream",
     "text": [
      "100%|██████████████████████████████████████████████████████████████████████████████████| 10/10 [16:08<00:00, 96.88s/it]\n"
     ]
    }
   ],
   "source": [
    "for i in tqdm(range(10)):\n",
    "    file_index = i+1\n",
    "    file_ecg = os.path.join(dataset_dir, f\"infant{file_index:d}_ecg\")\n",
    "    file_resp = os.path.join(dataset_dir, f\"infant{file_index:d}_resp\")\n",
    "    \n",
    "    # read the ecg and resp signals \n",
    "    record_ecg = wfdb.rdrecord(file_ecg)\n",
    "    record_resp = wfdb.rdrecord(file_resp)\n",
    "\n",
    "    # read the annotations files and get r peaks and respiratory peaks\n",
    "    r_peaks = wfdb.io.rdann(file_ecg, 'qrsc')\n",
    "    resp_peaks = wfdb.io.rdann(file_resp, 'resp')\n",
    "    \n",
    "    # get heart rate and respiratory rate\n",
    "    heart_rate = processing.compute_hr(len(record_ecg.p_signal),r_peaks.sample,record_ecg.fs)\n",
    "    breathing_rate = processing.compute_hr(len(record_resp.p_signal),resp_peaks.sample,record_resp.fs)\n",
    "    \n",
    "    # get sampling interval\n",
    "    ecg_samp_interval = 1/record_ecg.fs\n",
    "    resp_samp_interval = 1/record_resp.fs\n",
    "    print(file_index)\n",
    "    print(\"ECG sampling frequency: \", record_ecg.fs, \" Hz\")\n",
    "    print(\"ECG sampling interval every \", ecg_samp_interval, \" sec.\")\n",
    "    print(\"RESP sampling frequency: \", record_resp.fs, \" Hz\")\n",
    "    print(\"RESP sampling interval every = \", resp_samp_interval, \" sec.\")\n",
    "    print(\"\\n\")\n",
    "    \n",
    "    # time axis\n",
    "    time_ecg = np.arange(record_ecg.p_signal.shape[0])*ecg_samp_interval # ECG time axis\n",
    "    time_resp = np.arange(record_resp.p_signal.shape[0])*resp_samp_interval # RESP time axis\n",
    "    \n",
    "    # create dataframe from the data\n",
    "    heart_data = {\n",
    "    'Infant':file_index,\n",
    "    'Heart Rate': heart_rate,\n",
    "    'Time (sec)': time_ecg,\n",
    "        }\n",
    "    resp_data  = {\n",
    "     'Infant':file_index,\n",
    "    'Respiratory Rate':breathing_rate,\n",
    "       'Time (sec)':time_resp,}\n",
    " \n",
    "    heart_df = pd.DataFrame.from_dict(heart_data) \n",
    "    resp_df = pd.DataFrame.from_dict(resp_data) \n",
    "    \n",
    "    # drop the NaN rows\n",
    "    resp_df=resp_df.dropna()\n",
    "    resp_df=resp_df.dropna().reset_index(drop=True)\n",
    "\n",
    "    heart_df=heart_df.dropna()\n",
    "    heart_df=heart_df.dropna().reset_index(drop=True)\n",
    "    \n",
    "    # merge the two dataframe together with respect to the same Time (sec) column\n",
    "    merged_df = pd.merge(heart_df, resp_df, how='inner', on = ['Time (sec)','Infant'])\n",
    "    \n",
    "    merged_df.to_csv('dataset/infant_'+str(file_index)+'.csv', index=False)\n"
   ]
  },
  {
   "cell_type": "markdown",
   "id": "3e934a71",
   "metadata": {},
   "source": [
    "## Visualization"
   ]
  },
  {
   "cell_type": "code",
   "execution_count": 38,
   "id": "25badd04",
   "metadata": {},
   "outputs": [
    {
     "data": {
      "image/png": "[encoded data removed]",
      "text/plain": [
       "<Figure size 720x288 with 1 Axes>"
      ]
     },
     "metadata": {
      "needs_background": "light"
     },
     "output_type": "display_data"
    },
    {
     "data": {
      "image/png": "[encoded data removed]",
      "text/plain": [
       "<Figure size 720x288 with 1 Axes>"
      ]
     },
     "metadata": {
      "needs_background": "light"
     },
     "output_type": "display_data"
    }
   ],
   "source": [
    "wfdb.plot_wfdb(record = record_ecg,  annotation=r_peaks,title='ECG Signal & R Peaks', figsize=(10,4)) \n",
    "wfdb.plot_wfdb(record = record_resp,  annotation=resp_peaks,title='Respiratory Signal & Respiratory Peaks', figsize=(10,4)) \n"
   ]
  },
  {
   "cell_type": "code",
   "execution_count": 39,
   "id": "bf844e05",
   "metadata": {},
   "outputs": [
    {
     "data": {
      "image/png": "[encoded data removed]",
      "text/plain": [
       "<Figure size 1296x576 with 2 Axes>"
      ]
     },
     "metadata": {
      "needs_background": "light"
     },
     "output_type": "display_data"
    }
   ],
   "source": [
    "\n",
    "fig1, ax = plt.subplots(2, 1, figsize=(18,8))\n",
    "ax[0].plot(time_ecg[:], heart_rate[:], '-k', lw=0.5)\n",
    "ax[1].plot(time_resp[:], breathing_rate[:], '-k', lw=0.5)\n",
    "ax[0].set_xlabel(\"time [sec]\")\n",
    "ax[1].set_xlabel(\"time [sec]\")\n",
    "ax[0].set_title(\"Heart Rate\")\n",
    "ax[1].set_title(\"Breathing Rate\")\n",
    "plt.tight_layout()\n",
    "plt.show()"
   ]
  },
  {
   "cell_type": "markdown",
   "id": "c6b36aae",
   "metadata": {},
   "source": [
    "## Split Data for Training and Testing"
   ]
  },
  {
   "cell_type": "code",
   "execution_count": 2,
   "id": "a9261524",
   "metadata": {},
   "outputs": [],
   "source": [
    "import random"
   ]
  },
  {
   "cell_type": "code",
   "execution_count": 5,
   "id": "6db57201",
   "metadata": {},
   "outputs": [
    {
     "name": "stdout",
     "output_type": "stream",
     "text": [
      "The train data will be on Infant [2, 3, 5, 6, 8, 9, 10]\n",
      "The test data will be on Infant [7, 1, 4]\n"
     ]
    }
   ],
   "source": [
    "random.seed(25)\n",
    "test_set = random.sample(range(1, 11), 3)\n",
    "train_set = [i+1 for i in range(10) if i+1 not in test_set]\n",
    "\n",
    "print(\"The train data will be on Infant \"+str(train_set))\n",
    "print(\"The test data will be on Infant \"+str(test_set))"
   ]
  },
  {
   "cell_type": "code",
   "execution_count": 53,
   "id": "58073e2d",
   "metadata": {},
   "outputs": [
    {
     "data": {
      "text/html": [
       "<div>\n",
       "<style scoped>\n",
       "    .dataframe tbody tr th:only-of-type {\n",
       "        vertical-align: middle;\n",
       "    }\n",
       "\n",
       "    .dataframe tbody tr th {\n",
       "        vertical-align: top;\n",
       "    }\n",
       "\n",
       "    .dataframe thead th {\n",
       "        text-align: right;\n",
       "    }\n",
       "</style>\n",
       "<table border=\"1\" class=\"dataframe\">\n",
       "  <thead>\n",
       "    <tr style=\"text-align: right;\">\n",
       "      <th></th>\n",
       "      <th>Infant</th>\n",
       "      <th>Heart Rate</th>\n",
       "      <th>Time (sec)</th>\n",
       "      <th>Respiratory Rate</th>\n",
       "    </tr>\n",
       "  </thead>\n",
       "  <tbody>\n",
       "    <tr>\n",
       "      <th>0</th>\n",
       "      <td>2</td>\n",
       "      <td>118.11024</td>\n",
       "      <td>409.98</td>\n",
       "      <td>0.556173</td>\n",
       "    </tr>\n",
       "    <tr>\n",
       "      <th>1</th>\n",
       "      <td>2</td>\n",
       "      <td>118.11024</td>\n",
       "      <td>410.00</td>\n",
       "      <td>0.556173</td>\n",
       "    </tr>\n",
       "    <tr>\n",
       "      <th>2</th>\n",
       "      <td>2</td>\n",
       "      <td>118.11024</td>\n",
       "      <td>410.02</td>\n",
       "      <td>0.556173</td>\n",
       "    </tr>\n",
       "    <tr>\n",
       "      <th>3</th>\n",
       "      <td>2</td>\n",
       "      <td>118.11024</td>\n",
       "      <td>410.04</td>\n",
       "      <td>0.556173</td>\n",
       "    </tr>\n",
       "    <tr>\n",
       "      <th>4</th>\n",
       "      <td>2</td>\n",
       "      <td>118.11024</td>\n",
       "      <td>410.06</td>\n",
       "      <td>0.556173</td>\n",
       "    </tr>\n",
       "    <tr>\n",
       "      <th>5</th>\n",
       "      <td>2</td>\n",
       "      <td>118.11024</td>\n",
       "      <td>410.08</td>\n",
       "      <td>0.556173</td>\n",
       "    </tr>\n",
       "    <tr>\n",
       "      <th>6</th>\n",
       "      <td>2</td>\n",
       "      <td>118.11024</td>\n",
       "      <td>410.10</td>\n",
       "      <td>0.556173</td>\n",
       "    </tr>\n",
       "    <tr>\n",
       "      <th>7</th>\n",
       "      <td>2</td>\n",
       "      <td>118.11024</td>\n",
       "      <td>410.12</td>\n",
       "      <td>0.556173</td>\n",
       "    </tr>\n",
       "    <tr>\n",
       "      <th>8</th>\n",
       "      <td>2</td>\n",
       "      <td>118.11024</td>\n",
       "      <td>410.14</td>\n",
       "      <td>0.556173</td>\n",
       "    </tr>\n",
       "    <tr>\n",
       "      <th>9</th>\n",
       "      <td>2</td>\n",
       "      <td>118.11024</td>\n",
       "      <td>410.16</td>\n",
       "      <td>0.556173</td>\n",
       "    </tr>\n",
       "    <tr>\n",
       "      <th>10</th>\n",
       "      <td>2</td>\n",
       "      <td>118.11024</td>\n",
       "      <td>410.18</td>\n",
       "      <td>0.556173</td>\n",
       "    </tr>\n",
       "    <tr>\n",
       "      <th>11</th>\n",
       "      <td>2</td>\n",
       "      <td>118.11024</td>\n",
       "      <td>410.20</td>\n",
       "      <td>0.556173</td>\n",
       "    </tr>\n",
       "    <tr>\n",
       "      <th>12</th>\n",
       "      <td>2</td>\n",
       "      <td>118.11024</td>\n",
       "      <td>410.22</td>\n",
       "      <td>0.556173</td>\n",
       "    </tr>\n",
       "    <tr>\n",
       "      <th>13</th>\n",
       "      <td>2</td>\n",
       "      <td>118.11024</td>\n",
       "      <td>410.24</td>\n",
       "      <td>0.556173</td>\n",
       "    </tr>\n",
       "    <tr>\n",
       "      <th>14</th>\n",
       "      <td>2</td>\n",
       "      <td>118.11024</td>\n",
       "      <td>410.26</td>\n",
       "      <td>0.556173</td>\n",
       "    </tr>\n",
       "    <tr>\n",
       "      <th>15</th>\n",
       "      <td>2</td>\n",
       "      <td>118.11024</td>\n",
       "      <td>410.28</td>\n",
       "      <td>0.556173</td>\n",
       "    </tr>\n",
       "    <tr>\n",
       "      <th>16</th>\n",
       "      <td>2</td>\n",
       "      <td>118.11024</td>\n",
       "      <td>410.30</td>\n",
       "      <td>0.556173</td>\n",
       "    </tr>\n",
       "    <tr>\n",
       "      <th>17</th>\n",
       "      <td>2</td>\n",
       "      <td>118.11024</td>\n",
       "      <td>410.32</td>\n",
       "      <td>0.556173</td>\n",
       "    </tr>\n",
       "    <tr>\n",
       "      <th>18</th>\n",
       "      <td>2</td>\n",
       "      <td>118.11024</td>\n",
       "      <td>410.34</td>\n",
       "      <td>0.556173</td>\n",
       "    </tr>\n",
       "    <tr>\n",
       "      <th>19</th>\n",
       "      <td>2</td>\n",
       "      <td>118.11024</td>\n",
       "      <td>410.36</td>\n",
       "      <td>0.556173</td>\n",
       "    </tr>\n",
       "    <tr>\n",
       "      <th>20</th>\n",
       "      <td>2</td>\n",
       "      <td>118.11024</td>\n",
       "      <td>410.38</td>\n",
       "      <td>0.556173</td>\n",
       "    </tr>\n",
       "    <tr>\n",
       "      <th>21</th>\n",
       "      <td>2</td>\n",
       "      <td>118.11024</td>\n",
       "      <td>410.40</td>\n",
       "      <td>0.556173</td>\n",
       "    </tr>\n",
       "    <tr>\n",
       "      <th>22</th>\n",
       "      <td>2</td>\n",
       "      <td>118.11024</td>\n",
       "      <td>410.42</td>\n",
       "      <td>0.556173</td>\n",
       "    </tr>\n",
       "    <tr>\n",
       "      <th>23</th>\n",
       "      <td>2</td>\n",
       "      <td>118.11024</td>\n",
       "      <td>410.44</td>\n",
       "      <td>0.556173</td>\n",
       "    </tr>\n",
       "    <tr>\n",
       "      <th>24</th>\n",
       "      <td>2</td>\n",
       "      <td>118.11024</td>\n",
       "      <td>410.46</td>\n",
       "      <td>0.556173</td>\n",
       "    </tr>\n",
       "    <tr>\n",
       "      <th>25</th>\n",
       "      <td>2</td>\n",
       "      <td>118.11024</td>\n",
       "      <td>410.48</td>\n",
       "      <td>0.556173</td>\n",
       "    </tr>\n",
       "  </tbody>\n",
       "</table>\n",
       "</div>"
      ],
      "text/plain": [
       "    Infant  Heart Rate  Time (sec)  Respiratory Rate\n",
       "0        2   118.11024      409.98          0.556173\n",
       "1        2   118.11024      410.00          0.556173\n",
       "2        2   118.11024      410.02          0.556173\n",
       "3        2   118.11024      410.04          0.556173\n",
       "4        2   118.11024      410.06          0.556173\n",
       "5        2   118.11024      410.08          0.556173\n",
       "6        2   118.11024      410.10          0.556173\n",
       "7        2   118.11024      410.12          0.556173\n",
       "8        2   118.11024      410.14          0.556173\n",
       "9        2   118.11024      410.16          0.556173\n",
       "10       2   118.11024      410.18          0.556173\n",
       "11       2   118.11024      410.20          0.556173\n",
       "12       2   118.11024      410.22          0.556173\n",
       "13       2   118.11024      410.24          0.556173\n",
       "14       2   118.11024      410.26          0.556173\n",
       "15       2   118.11024      410.28          0.556173\n",
       "16       2   118.11024      410.30          0.556173\n",
       "17       2   118.11024      410.32          0.556173\n",
       "18       2   118.11024      410.34          0.556173\n",
       "19       2   118.11024      410.36          0.556173\n",
       "20       2   118.11024      410.38          0.556173\n",
       "21       2   118.11024      410.40          0.556173\n",
       "22       2   118.11024      410.42          0.556173\n",
       "23       2   118.11024      410.44          0.556173\n",
       "24       2   118.11024      410.46          0.556173\n",
       "25       2   118.11024      410.48          0.556173"
      ]
     },
     "execution_count": 53,
     "metadata": {},
     "output_type": "execute_result"
    }
   ],
   "source": [
    "df = pd.read_csv(r\"dataset/infant_\"+str(file_index)+\".csv\")\n",
    "df[0:26]"
   ]
  },
  {
   "cell_type": "markdown",
   "id": "5d685a36",
   "metadata": {},
   "source": [
    "From the example above, we can see that the heart and respiratory rate remains the same for a period of time. <br><br>\n",
    "\n",
    "We will remove all the duplicates rows in the training and testing set.<br><br>\n",
    "\n",
    "There are also outliers in the data. For example, in the dataframe above the respiratory rate is only 0.5, which is impossible in real life. These outliers will also be removed. <br><br>\n",
    "\n",
    "\n"
   ]
  },
  {
   "cell_type": "code",
   "execution_count": 3,
   "id": "9883de87",
   "metadata": {},
   "outputs": [],
   "source": [
    "# define the max and minimum values we want for out heart and respiratory rate\n",
    "\n",
    "min_heart_rate = 20\n",
    "max_heart_rate = 250\n",
    "min_resp_rate = 20\n",
    "max_resp_rate = 200\n"
   ]
  },
  {
   "cell_type": "code",
   "execution_count": 67,
   "id": "4296a2d4",
   "metadata": {},
   "outputs": [
    {
     "name": "stderr",
     "output_type": "stream",
     "text": [
      "100%|████████████████████████████████████████████████████████████████████████████████████| 7/7 [00:15<00:00,  2.27s/it]\n"
     ]
    }
   ],
   "source": [
    "# drop the rows where heart rate and respiratory rate are duplicated and only keep the first occurrence \n",
    "\n",
    "train_df = pd.DataFrame()\n",
    "correlation_score = []\n",
    "\n",
    "\n",
    "for i in tqdm(train_set):\n",
    "    df = pd.read_csv(r\"dataset/infant_\"+str(i)+\".csv\")\n",
    "    df = df.drop_duplicates(subset=['Heart Rate', 'Respiratory Rate'], keep='first')\n",
    "    \n",
    "    # remove outliers\n",
    "    df = df[df[\"Heart Rate\"] >min_heart_rate]\n",
    "    df = df[df[\"Heart Rate\"] <max_heart_rate]\n",
    "    df = df[df[\"Respiratory Rate\"] >min_resp_rate]\n",
    "    df = df[df[\"Respiratory Rate\"] <max_resp_rate]\n",
    "    \n",
    "    corr, pvalue = pearsonr(np.array(df['Heart Rate']), np.array(df['Respiratory Rate']))\n",
    "    correlation_score.append(corr)\n",
    "    #print('Pearsons correlation score between Heart & Resp Rate: %.3f' % corr)\n",
    "\n",
    "    train_df = train_df.append(df,ignore_index=True)\n"
   ]
  },
  {
   "cell_type": "code",
   "execution_count": 20,
   "id": "07bac0b9",
   "metadata": {},
   "outputs": [],
   "source": [
    "# save the to csv \n",
    "\n",
    "train_df.to_csv('dataset/train_data.csv', index=False)\n"
   ]
  },
  {
   "cell_type": "code",
   "execution_count": 9,
   "id": "3e699cad",
   "metadata": {},
   "outputs": [
    {
     "name": "stderr",
     "output_type": "stream",
     "text": [
      "100%|████████████████████████████████████████████████████████████████████████████████████| 3/3 [00:14<00:00,  4.84s/it]\n"
     ]
    }
   ],
   "source": [
    "# save the testing data to csv\n",
    "\n",
    "test_df = pd.DataFrame()\n",
    "\n",
    "for j in tqdm(test_set):\n",
    "    df = pd.read_csv(r\"dataset/infant_\"+str(j)+\".csv\")\n",
    "    df = df.drop_duplicates(subset=['Heart Rate', 'Respiratory Rate'], keep='first')\n",
    "\n",
    "    # remove outliers\n",
    "    df = df[df[\"Heart Rate\"] >min_heart_rate]\n",
    "    df = df[df[\"Heart Rate\"] <max_heart_rate]\n",
    "    df = df[df[\"Respiratory Rate\"] >min_resp_rate]\n",
    "    df = df[df[\"Respiratory Rate\"] <max_resp_rate]\n",
    "\n",
    "    corr, pvalue = pearsonr(np.array(df['Heart Rate']), np.array(df['Respiratory Rate']))\n",
    "    correlation_score.append(corr)\n",
    "    #print('Pearsons correlation score between Heart & Resp Rate: %.3f' % corr)\n",
    "    \n",
    "    \n",
    "    test_df = test_df.append(df,ignore_index=True)\n",
    "    \n"
   ]
  },
  {
   "cell_type": "code",
   "execution_count": 72,
   "id": "9e69df01",
   "metadata": {},
   "outputs": [
    {
     "name": "stdout",
     "output_type": "stream",
     "text": [
      "Average Pearsons correlation score: 0.008\n"
     ]
    }
   ],
   "source": [
    "avg_corr_score = sum(correlation_score) / len(correlation_score)\n",
    "print('Average Pearsons correlation score: %.3f' % avg_corr_score)"
   ]
  },
  {
   "cell_type": "code",
   "execution_count": 10,
   "id": "f388ad4c",
   "metadata": {},
   "outputs": [],
   "source": [
    "test_df.to_csv('dataset/test_data2.csv', index=False)\n"
   ]
  }
 ],
 "metadata": {
  "kernelspec": {
   "display_name": "general",
   "language": "python",
   "name": "general"
  },
  "language_info": {
   "codemirror_mode": {
    "name": "ipython",
    "version": 3
   },
   "file_extension": ".py",
   "mimetype": "text/x-python",
   "name": "python",
   "nbconvert_exporter": "python",
   "pygments_lexer": "ipython3",
   "version": "3.10.4"
  }
 },
 "nbformat": 4,
 "nbformat_minor": 5
}
