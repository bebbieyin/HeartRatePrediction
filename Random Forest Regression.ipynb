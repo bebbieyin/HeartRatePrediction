{
 "cells": [
  {
   "cell_type": "markdown",
   "id": "e6527c8e",
   "metadata": {},
   "source": [
    "## Importing the libraries"
   ]
  },
  {
   "cell_type": "code",
   "execution_count": 25,
   "id": "d978a800",
   "metadata": {},
   "outputs": [],
   "source": [
    "import numpy as np\n",
    "import matplotlib.pyplot as plt\n",
    "import pandas as pd\n",
    "from sklearn.ensemble import RandomForestRegressor\n",
    "from sklearn.model_selection import GridSearchCV\n",
    "from pprint import pprint\n",
    "from sklearn.metrics import mean_squared_error,mean_absolute_error\n",
    "from sklearn import preprocessing\n",
    "import pickle\n",
    "import warnings\n",
    "warnings.filterwarnings(\"ignore\")"
   ]
  },
  {
   "cell_type": "markdown",
   "id": "a19d3e59",
   "metadata": {},
   "source": [
    "## Importing the dataset"
   ]
  },
  {
   "cell_type": "code",
   "execution_count": 26,
   "id": "4f69e04c",
   "metadata": {},
   "outputs": [
    {
     "data": {
      "text/html": [
       "<div>\n",
       "<style scoped>\n",
       "    .dataframe tbody tr th:only-of-type {\n",
       "        vertical-align: middle;\n",
       "    }\n",
       "\n",
       "    .dataframe tbody tr th {\n",
       "        vertical-align: top;\n",
       "    }\n",
       "\n",
       "    .dataframe thead th {\n",
       "        text-align: right;\n",
       "    }\n",
       "</style>\n",
       "<table border=\"1\" class=\"dataframe\">\n",
       "  <thead>\n",
       "    <tr style=\"text-align: right;\">\n",
       "      <th></th>\n",
       "      <th>Infant</th>\n",
       "      <th>Heart Rate</th>\n",
       "      <th>Time (sec)</th>\n",
       "      <th>Respiratory Rate</th>\n",
       "    </tr>\n",
       "  </thead>\n",
       "  <tbody>\n",
       "    <tr>\n",
       "      <th>0</th>\n",
       "      <td>2</td>\n",
       "      <td>118.58</td>\n",
       "      <td>411.30</td>\n",
       "      <td>40.00</td>\n",
       "    </tr>\n",
       "    <tr>\n",
       "      <th>1</th>\n",
       "      <td>2</td>\n",
       "      <td>117.19</td>\n",
       "      <td>411.52</td>\n",
       "      <td>40.00</td>\n",
       "    </tr>\n",
       "    <tr>\n",
       "      <th>2</th>\n",
       "      <td>2</td>\n",
       "      <td>118.11</td>\n",
       "      <td>412.02</td>\n",
       "      <td>40.00</td>\n",
       "    </tr>\n",
       "    <tr>\n",
       "      <th>3</th>\n",
       "      <td>2</td>\n",
       "      <td>118.11</td>\n",
       "      <td>412.04</td>\n",
       "      <td>81.08</td>\n",
       "    </tr>\n",
       "    <tr>\n",
       "      <th>4</th>\n",
       "      <td>2</td>\n",
       "      <td>118.11</td>\n",
       "      <td>412.56</td>\n",
       "      <td>115.38</td>\n",
       "    </tr>\n",
       "    <tr>\n",
       "      <th>...</th>\n",
       "      <td>...</td>\n",
       "      <td>...</td>\n",
       "      <td>...</td>\n",
       "      <td>...</td>\n",
       "    </tr>\n",
       "    <tr>\n",
       "      <th>100112</th>\n",
       "      <td>10</td>\n",
       "      <td>106.01</td>\n",
       "      <td>158928.38</td>\n",
       "      <td>93.75</td>\n",
       "    </tr>\n",
       "    <tr>\n",
       "      <th>100113</th>\n",
       "      <td>10</td>\n",
       "      <td>102.04</td>\n",
       "      <td>160485.40</td>\n",
       "      <td>93.75</td>\n",
       "    </tr>\n",
       "    <tr>\n",
       "      <th>100114</th>\n",
       "      <td>10</td>\n",
       "      <td>104.17</td>\n",
       "      <td>161948.56</td>\n",
       "      <td>93.75</td>\n",
       "    </tr>\n",
       "    <tr>\n",
       "      <th>100115</th>\n",
       "      <td>10</td>\n",
       "      <td>245.90</td>\n",
       "      <td>162241.24</td>\n",
       "      <td>93.75</td>\n",
       "    </tr>\n",
       "    <tr>\n",
       "      <th>100116</th>\n",
       "      <td>10</td>\n",
       "      <td>107.53</td>\n",
       "      <td>162422.26</td>\n",
       "      <td>93.75</td>\n",
       "    </tr>\n",
       "  </tbody>\n",
       "</table>\n",
       "<p>100117 rows × 4 columns</p>\n",
       "</div>"
      ],
      "text/plain": [
       "        Infant  Heart Rate  Time (sec)  Respiratory Rate\n",
       "0            2      118.58      411.30             40.00\n",
       "1            2      117.19      411.52             40.00\n",
       "2            2      118.11      412.02             40.00\n",
       "3            2      118.11      412.04             81.08\n",
       "4            2      118.11      412.56            115.38\n",
       "...        ...         ...         ...               ...\n",
       "100112      10      106.01   158928.38             93.75\n",
       "100113      10      102.04   160485.40             93.75\n",
       "100114      10      104.17   161948.56             93.75\n",
       "100115      10      245.90   162241.24             93.75\n",
       "100116      10      107.53   162422.26             93.75\n",
       "\n",
       "[100117 rows x 4 columns]"
      ]
     },
     "execution_count": 26,
     "metadata": {},
     "output_type": "execute_result"
    }
   ],
   "source": [
    "dataset = pd.read_csv(r\"dataset/train_data.csv\")\n",
    "#dataset = dataset.astype(int)\n",
    "dataset = dataset.round(2)\n",
    "dataset"
   ]
  },
  {
   "cell_type": "code",
   "execution_count": 27,
   "id": "7cf897f9",
   "metadata": {},
   "outputs": [],
   "source": [
    "X = dataset[['Time (sec)','Respiratory Rate']] # features\n",
    "y = dataset['Heart Rate']  # labels"
   ]
  },
  {
   "cell_type": "code",
   "execution_count": 28,
   "id": "61c14fc7",
   "metadata": {},
   "outputs": [],
   "source": [
    "# feature scaling\n",
    "sc = preprocessing.StandardScaler()\n",
    "X = sc.fit_transform(X)\n",
    "y =  sc.fit_transform(y.values.reshape(-1, 1))"
   ]
  },
  {
   "cell_type": "markdown",
   "id": "97e7a618",
   "metadata": {},
   "source": [
    "## Splitting the dataset into the Training set and Test set"
   ]
  },
  {
   "cell_type": "code",
   "execution_count": 29,
   "id": "674a50ef",
   "metadata": {},
   "outputs": [],
   "source": [
    "from sklearn.model_selection import train_test_split\n",
    "X_train, X_test, y_train, y_test = train_test_split(X, y, test_size = 0.2, random_state = 42)"
   ]
  },
  {
   "cell_type": "markdown",
   "id": "937cf817",
   "metadata": {},
   "source": [
    "## Grid Search Cross Validation to get the best hyperparameters"
   ]
  },
  {
   "cell_type": "code",
   "execution_count": 30,
   "id": "27e063c2",
   "metadata": {},
   "outputs": [
    {
     "name": "stdout",
     "output_type": "stream",
     "text": [
      "{'bootstrap': [True],\n",
      " 'criterion': ['friedman_mse'],\n",
      " 'max_depth': [200, 400, 600],\n",
      " 'max_features': ['auto'],\n",
      " 'min_samples_split': [2, 5, 8],\n",
      " 'n_estimators': [200, 1100, 2000]}\n"
     ]
    }
   ],
   "source": [
    "# Number of trees in random forest\n",
    "n_estimators = [int(x) for x in np.linspace(start=200, stop=2000, num=3)]\n",
    "# Number of features to consider at every split\n",
    "max_features = ['auto']\n",
    "\n",
    "# Maximum number of levels in tree\n",
    "#max_depth = [int(x) for x in np.linspace(10, 110, num=11)]\n",
    "#max_depth = [100,200,400,600]\n",
    "max_depth = [200,400,600]\n",
    "\n",
    "# Minimum number of samples required to split a node\n",
    "min_samples_split = [2, 5, 8]\n",
    "\n",
    "# Minimum number of samples required at each leaf node\n",
    "#min_samples_leaf = [1, 2, 4]\n",
    "\n",
    "# Method of selecting samples for training each tree\n",
    "bootstrap = [True]\n",
    "\n",
    "criterion = [\"friedman_mse\"]\n",
    "\n",
    "# Create the random grid\n",
    "grid = {'n_estimators': n_estimators,\n",
    "               'max_features': max_features,\n",
    "               'max_depth': max_depth,\n",
    "               'min_samples_split': min_samples_split,\n",
    "               #'min_samples_leaf': min_samples_leaf,\n",
    "               'bootstrap': bootstrap,\n",
    "               'criterion':criterion\n",
    "       }\n",
    "pprint(grid)\n"
   ]
  },
  {
   "cell_type": "code",
   "execution_count": 31,
   "id": "27bc186a",
   "metadata": {},
   "outputs": [
    {
     "name": "stdout",
     "output_type": "stream",
     "text": [
      "Fitting 2 folds for each of 27 candidates, totalling 54 fits\n",
      "[CV 1/2; 1/27] START bootstrap=True, criterion=friedman_mse, max_depth=200, max_features=auto, min_samples_split=2, n_estimators=200\n",
      "[CV 1/2; 1/27] END bootstrap=True, criterion=friedman_mse, max_depth=200, max_features=auto, min_samples_split=2, n_estimators=200;, score=-0.558 total time=  25.0s\n",
      "[CV 2/2; 1/27] START bootstrap=True, criterion=friedman_mse, max_depth=200, max_features=auto, min_samples_split=2, n_estimators=200\n",
      "[CV 2/2; 1/27] END bootstrap=True, criterion=friedman_mse, max_depth=200, max_features=auto, min_samples_split=2, n_estimators=200;, score=-0.545 total time=  26.4s\n",
      "[CV 1/2; 2/27] START bootstrap=True, criterion=friedman_mse, max_depth=200, max_features=auto, min_samples_split=2, n_estimators=1100\n",
      "[CV 1/2; 2/27] END bootstrap=True, criterion=friedman_mse, max_depth=200, max_features=auto, min_samples_split=2, n_estimators=1100;, score=-0.557 total time= 2.4min\n",
      "[CV 2/2; 2/27] START bootstrap=True, criterion=friedman_mse, max_depth=200, max_features=auto, min_samples_split=2, n_estimators=1100\n",
      "[CV 2/2; 2/27] END bootstrap=True, criterion=friedman_mse, max_depth=200, max_features=auto, min_samples_split=2, n_estimators=1100;, score=-0.544 total time= 2.3min\n",
      "[CV 1/2; 3/27] START bootstrap=True, criterion=friedman_mse, max_depth=200, max_features=auto, min_samples_split=2, n_estimators=2000\n",
      "[CV 1/2; 3/27] END bootstrap=True, criterion=friedman_mse, max_depth=200, max_features=auto, min_samples_split=2, n_estimators=2000;, score=-0.557 total time= 4.1min\n",
      "[CV 2/2; 3/27] START bootstrap=True, criterion=friedman_mse, max_depth=200, max_features=auto, min_samples_split=2, n_estimators=2000\n",
      "[CV 2/2; 3/27] END bootstrap=True, criterion=friedman_mse, max_depth=200, max_features=auto, min_samples_split=2, n_estimators=2000;, score=-0.543 total time= 4.2min\n",
      "[CV 1/2; 4/27] START bootstrap=True, criterion=friedman_mse, max_depth=200, max_features=auto, min_samples_split=5, n_estimators=200\n",
      "[CV 1/2; 4/27] END bootstrap=True, criterion=friedman_mse, max_depth=200, max_features=auto, min_samples_split=5, n_estimators=200;, score=-0.555 total time=  20.8s\n",
      "[CV 2/2; 4/27] START bootstrap=True, criterion=friedman_mse, max_depth=200, max_features=auto, min_samples_split=5, n_estimators=200\n",
      "[CV 2/2; 4/27] END bootstrap=True, criterion=friedman_mse, max_depth=200, max_features=auto, min_samples_split=5, n_estimators=200;, score=-0.542 total time=  21.1s\n",
      "[CV 1/2; 5/27] START bootstrap=True, criterion=friedman_mse, max_depth=200, max_features=auto, min_samples_split=5, n_estimators=1100\n",
      "[CV 1/2; 5/27] END bootstrap=True, criterion=friedman_mse, max_depth=200, max_features=auto, min_samples_split=5, n_estimators=1100;, score=-0.553 total time= 1.9min\n",
      "[CV 2/2; 5/27] START bootstrap=True, criterion=friedman_mse, max_depth=200, max_features=auto, min_samples_split=5, n_estimators=1100\n",
      "[CV 2/2; 5/27] END bootstrap=True, criterion=friedman_mse, max_depth=200, max_features=auto, min_samples_split=5, n_estimators=1100;, score=-0.541 total time= 1.9min\n",
      "[CV 1/2; 6/27] START bootstrap=True, criterion=friedman_mse, max_depth=200, max_features=auto, min_samples_split=5, n_estimators=2000\n",
      "[CV 1/2; 6/27] END bootstrap=True, criterion=friedman_mse, max_depth=200, max_features=auto, min_samples_split=5, n_estimators=2000;, score=-0.554 total time= 3.5min\n",
      "[CV 2/2; 6/27] START bootstrap=True, criterion=friedman_mse, max_depth=200, max_features=auto, min_samples_split=5, n_estimators=2000\n",
      "[CV 2/2; 6/27] END bootstrap=True, criterion=friedman_mse, max_depth=200, max_features=auto, min_samples_split=5, n_estimators=2000;, score=-0.541 total time= 3.5min\n",
      "[CV 1/2; 7/27] START bootstrap=True, criterion=friedman_mse, max_depth=200, max_features=auto, min_samples_split=8, n_estimators=200\n",
      "[CV 1/2; 7/27] END bootstrap=True, criterion=friedman_mse, max_depth=200, max_features=auto, min_samples_split=8, n_estimators=200;, score=-0.558 total time=  19.2s\n",
      "[CV 2/2; 7/27] START bootstrap=True, criterion=friedman_mse, max_depth=200, max_features=auto, min_samples_split=8, n_estimators=200\n",
      "[CV 2/2; 7/27] END bootstrap=True, criterion=friedman_mse, max_depth=200, max_features=auto, min_samples_split=8, n_estimators=200;, score=-0.548 total time=  19.4s\n",
      "[CV 1/2; 8/27] START bootstrap=True, criterion=friedman_mse, max_depth=200, max_features=auto, min_samples_split=8, n_estimators=1100\n",
      "[CV 1/2; 8/27] END bootstrap=True, criterion=friedman_mse, max_depth=200, max_features=auto, min_samples_split=8, n_estimators=1100;, score=-0.557 total time= 1.8min\n",
      "[CV 2/2; 8/27] START bootstrap=True, criterion=friedman_mse, max_depth=200, max_features=auto, min_samples_split=8, n_estimators=1100\n",
      "[CV 2/2; 8/27] END bootstrap=True, criterion=friedman_mse, max_depth=200, max_features=auto, min_samples_split=8, n_estimators=1100;, score=-0.545 total time= 1.8min\n",
      "[CV 1/2; 9/27] START bootstrap=True, criterion=friedman_mse, max_depth=200, max_features=auto, min_samples_split=8, n_estimators=2000\n",
      "[CV 1/2; 9/27] END bootstrap=True, criterion=friedman_mse, max_depth=200, max_features=auto, min_samples_split=8, n_estimators=2000;, score=-0.557 total time= 3.2min\n",
      "[CV 2/2; 9/27] START bootstrap=True, criterion=friedman_mse, max_depth=200, max_features=auto, min_samples_split=8, n_estimators=2000\n",
      "[CV 2/2; 9/27] END bootstrap=True, criterion=friedman_mse, max_depth=200, max_features=auto, min_samples_split=8, n_estimators=2000;, score=-0.546 total time= 3.3min\n",
      "[CV 1/2; 10/27] START bootstrap=True, criterion=friedman_mse, max_depth=400, max_features=auto, min_samples_split=2, n_estimators=200\n",
      "[CV 1/2; 10/27] END bootstrap=True, criterion=friedman_mse, max_depth=400, max_features=auto, min_samples_split=2, n_estimators=200;, score=-0.560 total time=  24.2s\n",
      "[CV 2/2; 10/27] START bootstrap=True, criterion=friedman_mse, max_depth=400, max_features=auto, min_samples_split=2, n_estimators=200\n",
      "[CV 2/2; 10/27] END bootstrap=True, criterion=friedman_mse, max_depth=400, max_features=auto, min_samples_split=2, n_estimators=200;, score=-0.547 total time=  24.4s\n",
      "[CV 1/2; 11/27] START bootstrap=True, criterion=friedman_mse, max_depth=400, max_features=auto, min_samples_split=2, n_estimators=1100\n",
      "[CV 1/2; 11/27] END bootstrap=True, criterion=friedman_mse, max_depth=400, max_features=auto, min_samples_split=2, n_estimators=1100;, score=-0.557 total time= 2.3min\n",
      "[CV 2/2; 11/27] START bootstrap=True, criterion=friedman_mse, max_depth=400, max_features=auto, min_samples_split=2, n_estimators=1100\n",
      "[CV 2/2; 11/27] END bootstrap=True, criterion=friedman_mse, max_depth=400, max_features=auto, min_samples_split=2, n_estimators=1100;, score=-0.544 total time= 2.3min\n",
      "[CV 1/2; 12/27] START bootstrap=True, criterion=friedman_mse, max_depth=400, max_features=auto, min_samples_split=2, n_estimators=2000\n",
      "[CV 1/2; 12/27] END bootstrap=True, criterion=friedman_mse, max_depth=400, max_features=auto, min_samples_split=2, n_estimators=2000;, score=-0.556 total time= 4.2min\n",
      "[CV 2/2; 12/27] START bootstrap=True, criterion=friedman_mse, max_depth=400, max_features=auto, min_samples_split=2, n_estimators=2000\n",
      "[CV 2/2; 12/27] END bootstrap=True, criterion=friedman_mse, max_depth=400, max_features=auto, min_samples_split=2, n_estimators=2000;, score=-0.543 total time= 4.2min\n",
      "[CV 1/2; 13/27] START bootstrap=True, criterion=friedman_mse, max_depth=400, max_features=auto, min_samples_split=5, n_estimators=200\n",
      "[CV 1/2; 13/27] END bootstrap=True, criterion=friedman_mse, max_depth=400, max_features=auto, min_samples_split=5, n_estimators=200;, score=-0.557 total time=  20.7s\n",
      "[CV 2/2; 13/27] START bootstrap=True, criterion=friedman_mse, max_depth=400, max_features=auto, min_samples_split=5, n_estimators=200\n",
      "[CV 2/2; 13/27] END bootstrap=True, criterion=friedman_mse, max_depth=400, max_features=auto, min_samples_split=5, n_estimators=200;, score=-0.543 total time=  21.1s\n",
      "[CV 1/2; 14/27] START bootstrap=True, criterion=friedman_mse, max_depth=400, max_features=auto, min_samples_split=5, n_estimators=1100\n",
      "[CV 1/2; 14/27] END bootstrap=True, criterion=friedman_mse, max_depth=400, max_features=auto, min_samples_split=5, n_estimators=1100;, score=-0.553 total time= 1.9min\n",
      "[CV 2/2; 14/27] START bootstrap=True, criterion=friedman_mse, max_depth=400, max_features=auto, min_samples_split=5, n_estimators=1100\n"
     ]
    },
    {
     "name": "stdout",
     "output_type": "stream",
     "text": [
      "[CV 2/2; 14/27] END bootstrap=True, criterion=friedman_mse, max_depth=400, max_features=auto, min_samples_split=5, n_estimators=1100;, score=-0.541 total time= 2.0min\n",
      "[CV 1/2; 15/27] START bootstrap=True, criterion=friedman_mse, max_depth=400, max_features=auto, min_samples_split=5, n_estimators=2000\n",
      "[CV 1/2; 15/27] END bootstrap=True, criterion=friedman_mse, max_depth=400, max_features=auto, min_samples_split=5, n_estimators=2000;, score=-0.553 total time= 3.5min\n",
      "[CV 2/2; 15/27] START bootstrap=True, criterion=friedman_mse, max_depth=400, max_features=auto, min_samples_split=5, n_estimators=2000\n",
      "[CV 2/2; 15/27] END bootstrap=True, criterion=friedman_mse, max_depth=400, max_features=auto, min_samples_split=5, n_estimators=2000;, score=-0.541 total time= 3.5min\n",
      "[CV 1/2; 16/27] START bootstrap=True, criterion=friedman_mse, max_depth=400, max_features=auto, min_samples_split=8, n_estimators=200\n",
      "[CV 1/2; 16/27] END bootstrap=True, criterion=friedman_mse, max_depth=400, max_features=auto, min_samples_split=8, n_estimators=200;, score=-0.559 total time=  19.1s\n",
      "[CV 2/2; 16/27] START bootstrap=True, criterion=friedman_mse, max_depth=400, max_features=auto, min_samples_split=8, n_estimators=200\n",
      "[CV 2/2; 16/27] END bootstrap=True, criterion=friedman_mse, max_depth=400, max_features=auto, min_samples_split=8, n_estimators=200;, score=-0.546 total time=  19.4s\n",
      "[CV 1/2; 17/27] START bootstrap=True, criterion=friedman_mse, max_depth=400, max_features=auto, min_samples_split=8, n_estimators=1100\n",
      "[CV 1/2; 17/27] END bootstrap=True, criterion=friedman_mse, max_depth=400, max_features=auto, min_samples_split=8, n_estimators=1100;, score=-0.557 total time= 1.8min\n",
      "[CV 2/2; 17/27] START bootstrap=True, criterion=friedman_mse, max_depth=400, max_features=auto, min_samples_split=8, n_estimators=1100\n",
      "[CV 2/2; 17/27] END bootstrap=True, criterion=friedman_mse, max_depth=400, max_features=auto, min_samples_split=8, n_estimators=1100;, score=-0.545 total time= 1.8min\n",
      "[CV 1/2; 18/27] START bootstrap=True, criterion=friedman_mse, max_depth=400, max_features=auto, min_samples_split=8, n_estimators=2000\n",
      "[CV 1/2; 18/27] END bootstrap=True, criterion=friedman_mse, max_depth=400, max_features=auto, min_samples_split=8, n_estimators=2000;, score=-0.557 total time= 3.2min\n",
      "[CV 2/2; 18/27] START bootstrap=True, criterion=friedman_mse, max_depth=400, max_features=auto, min_samples_split=8, n_estimators=2000\n",
      "[CV 2/2; 18/27] END bootstrap=True, criterion=friedman_mse, max_depth=400, max_features=auto, min_samples_split=8, n_estimators=2000;, score=-0.545 total time= 3.3min\n",
      "[CV 1/2; 19/27] START bootstrap=True, criterion=friedman_mse, max_depth=600, max_features=auto, min_samples_split=2, n_estimators=200\n",
      "[CV 1/2; 19/27] END bootstrap=True, criterion=friedman_mse, max_depth=600, max_features=auto, min_samples_split=2, n_estimators=200;, score=-0.558 total time=  25.6s\n",
      "[CV 2/2; 19/27] START bootstrap=True, criterion=friedman_mse, max_depth=600, max_features=auto, min_samples_split=2, n_estimators=200\n",
      "[CV 2/2; 19/27] END bootstrap=True, criterion=friedman_mse, max_depth=600, max_features=auto, min_samples_split=2, n_estimators=200;, score=-0.546 total time=  28.6s\n",
      "[CV 1/2; 20/27] START bootstrap=True, criterion=friedman_mse, max_depth=600, max_features=auto, min_samples_split=2, n_estimators=1100\n",
      "[CV 1/2; 20/27] END bootstrap=True, criterion=friedman_mse, max_depth=600, max_features=auto, min_samples_split=2, n_estimators=1100;, score=-0.557 total time= 2.3min\n",
      "[CV 2/2; 20/27] START bootstrap=True, criterion=friedman_mse, max_depth=600, max_features=auto, min_samples_split=2, n_estimators=1100\n",
      "[CV 2/2; 20/27] END bootstrap=True, criterion=friedman_mse, max_depth=600, max_features=auto, min_samples_split=2, n_estimators=1100;, score=-0.543 total time= 2.3min\n",
      "[CV 1/2; 21/27] START bootstrap=True, criterion=friedman_mse, max_depth=600, max_features=auto, min_samples_split=2, n_estimators=2000\n",
      "[CV 1/2; 21/27] END bootstrap=True, criterion=friedman_mse, max_depth=600, max_features=auto, min_samples_split=2, n_estimators=2000;, score=-0.557 total time= 4.2min\n",
      "[CV 2/2; 21/27] START bootstrap=True, criterion=friedman_mse, max_depth=600, max_features=auto, min_samples_split=2, n_estimators=2000\n",
      "[CV 2/2; 21/27] END bootstrap=True, criterion=friedman_mse, max_depth=600, max_features=auto, min_samples_split=2, n_estimators=2000;, score=-0.544 total time= 4.2min\n",
      "[CV 1/2; 22/27] START bootstrap=True, criterion=friedman_mse, max_depth=600, max_features=auto, min_samples_split=5, n_estimators=200\n",
      "[CV 1/2; 22/27] END bootstrap=True, criterion=friedman_mse, max_depth=600, max_features=auto, min_samples_split=5, n_estimators=200;, score=-0.555 total time=  20.8s\n",
      "[CV 2/2; 22/27] START bootstrap=True, criterion=friedman_mse, max_depth=600, max_features=auto, min_samples_split=5, n_estimators=200\n",
      "[CV 2/2; 22/27] END bootstrap=True, criterion=friedman_mse, max_depth=600, max_features=auto, min_samples_split=5, n_estimators=200;, score=-0.543 total time=  21.1s\n",
      "[CV 1/2; 23/27] START bootstrap=True, criterion=friedman_mse, max_depth=600, max_features=auto, min_samples_split=5, n_estimators=1100\n",
      "[CV 1/2; 23/27] END bootstrap=True, criterion=friedman_mse, max_depth=600, max_features=auto, min_samples_split=5, n_estimators=1100;, score=-0.554 total time= 1.9min\n",
      "[CV 2/2; 23/27] START bootstrap=True, criterion=friedman_mse, max_depth=600, max_features=auto, min_samples_split=5, n_estimators=1100\n",
      "[CV 2/2; 23/27] END bootstrap=True, criterion=friedman_mse, max_depth=600, max_features=auto, min_samples_split=5, n_estimators=1100;, score=-0.541 total time= 2.0min\n",
      "[CV 1/2; 24/27] START bootstrap=True, criterion=friedman_mse, max_depth=600, max_features=auto, min_samples_split=5, n_estimators=2000\n",
      "[CV 1/2; 24/27] END bootstrap=True, criterion=friedman_mse, max_depth=600, max_features=auto, min_samples_split=5, n_estimators=2000;, score=-0.554 total time= 3.7min\n",
      "[CV 2/2; 24/27] START bootstrap=True, criterion=friedman_mse, max_depth=600, max_features=auto, min_samples_split=5, n_estimators=2000\n",
      "[CV 2/2; 24/27] END bootstrap=True, criterion=friedman_mse, max_depth=600, max_features=auto, min_samples_split=5, n_estimators=2000;, score=-0.541 total time= 3.6min\n",
      "[CV 1/2; 25/27] START bootstrap=True, criterion=friedman_mse, max_depth=600, max_features=auto, min_samples_split=8, n_estimators=200\n",
      "[CV 1/2; 25/27] END bootstrap=True, criterion=friedman_mse, max_depth=600, max_features=auto, min_samples_split=8, n_estimators=200;, score=-0.558 total time=  19.6s\n",
      "[CV 2/2; 25/27] START bootstrap=True, criterion=friedman_mse, max_depth=600, max_features=auto, min_samples_split=8, n_estimators=200\n",
      "[CV 2/2; 25/27] END bootstrap=True, criterion=friedman_mse, max_depth=600, max_features=auto, min_samples_split=8, n_estimators=200;, score=-0.547 total time=  19.9s\n",
      "[CV 1/2; 26/27] START bootstrap=True, criterion=friedman_mse, max_depth=600, max_features=auto, min_samples_split=8, n_estimators=1100\n",
      "[CV 1/2; 26/27] END bootstrap=True, criterion=friedman_mse, max_depth=600, max_features=auto, min_samples_split=8, n_estimators=1100;, score=-0.557 total time= 1.8min\n",
      "[CV 2/2; 26/27] START bootstrap=True, criterion=friedman_mse, max_depth=600, max_features=auto, min_samples_split=8, n_estimators=1100\n",
      "[CV 2/2; 26/27] END bootstrap=True, criterion=friedman_mse, max_depth=600, max_features=auto, min_samples_split=8, n_estimators=1100;, score=-0.546 total time= 1.9min\n",
      "[CV 1/2; 27/27] START bootstrap=True, criterion=friedman_mse, max_depth=600, max_features=auto, min_samples_split=8, n_estimators=2000\n",
      "[CV 1/2; 27/27] END bootstrap=True, criterion=friedman_mse, max_depth=600, max_features=auto, min_samples_split=8, n_estimators=2000;, score=-0.557 total time= 3.3min\n",
      "[CV 2/2; 27/27] START bootstrap=True, criterion=friedman_mse, max_depth=600, max_features=auto, min_samples_split=8, n_estimators=2000\n",
      "[CV 2/2; 27/27] END bootstrap=True, criterion=friedman_mse, max_depth=600, max_features=auto, min_samples_split=8, n_estimators=2000;, score=-0.546 total time= 3.4min\n"
     ]
    },
    {
     "data": {
      "text/html": [
       "<style>#sk-container-id-1 {color: black;background-color: white;}#sk-container-id-1 pre{padding: 0;}#sk-container-id-1 div.sk-toggleable {background-color: white;}#sk-container-id-1 label.sk-toggleable__label {cursor: pointer;display: block;width: 100%;margin-bottom: 0;padding: 0.3em;box-sizing: border-box;text-align: center;}#sk-container-id-1 label.sk-toggleable__label-arrow:before {content: \"▸\";float: left;margin-right: 0.25em;color: #696969;}#sk-container-id-1 label.sk-toggleable__label-arrow:hover:before {color: black;}#sk-container-id-1 div.sk-estimator:hover label.sk-toggleable__label-arrow:before {color: black;}#sk-container-id-1 div.sk-toggleable__content {max-height: 0;max-width: 0;overflow: hidden;text-align: left;background-color: #f0f8ff;}#sk-container-id-1 div.sk-toggleable__content pre {margin: 0.2em;color: black;border-radius: 0.25em;background-color: #f0f8ff;}#sk-container-id-1 input.sk-toggleable__control:checked~div.sk-toggleable__content {max-height: 200px;max-width: 100%;overflow: auto;}#sk-container-id-1 input.sk-toggleable__control:checked~label.sk-toggleable__label-arrow:before {content: \"▾\";}#sk-container-id-1 div.sk-estimator input.sk-toggleable__control:checked~label.sk-toggleable__label {background-color: #d4ebff;}#sk-container-id-1 div.sk-label input.sk-toggleable__control:checked~label.sk-toggleable__label {background-color: #d4ebff;}#sk-container-id-1 input.sk-hidden--visually {border: 0;clip: rect(1px 1px 1px 1px);clip: rect(1px, 1px, 1px, 1px);height: 1px;margin: -1px;overflow: hidden;padding: 0;position: absolute;width: 1px;}#sk-container-id-1 div.sk-estimator {font-family: monospace;background-color: #f0f8ff;border: 1px dotted black;border-radius: 0.25em;box-sizing: border-box;margin-bottom: 0.5em;}#sk-container-id-1 div.sk-estimator:hover {background-color: #d4ebff;}#sk-container-id-1 div.sk-parallel-item::after {content: \"\";width: 100%;border-bottom: 1px solid gray;flex-grow: 1;}#sk-container-id-1 div.sk-label:hover label.sk-toggleable__label {background-color: #d4ebff;}#sk-container-id-1 div.sk-serial::before {content: \"\";position: absolute;border-left: 1px solid gray;box-sizing: border-box;top: 0;bottom: 0;left: 50%;z-index: 0;}#sk-container-id-1 div.sk-serial {display: flex;flex-direction: column;align-items: center;background-color: white;padding-right: 0.2em;padding-left: 0.2em;position: relative;}#sk-container-id-1 div.sk-item {position: relative;z-index: 1;}#sk-container-id-1 div.sk-parallel {display: flex;align-items: stretch;justify-content: center;background-color: white;position: relative;}#sk-container-id-1 div.sk-item::before, #sk-container-id-1 div.sk-parallel-item::before {content: \"\";position: absolute;border-left: 1px solid gray;box-sizing: border-box;top: 0;bottom: 0;left: 50%;z-index: -1;}#sk-container-id-1 div.sk-parallel-item {display: flex;flex-direction: column;z-index: 1;position: relative;background-color: white;}#sk-container-id-1 div.sk-parallel-item:first-child::after {align-self: flex-end;width: 50%;}#sk-container-id-1 div.sk-parallel-item:last-child::after {align-self: flex-start;width: 50%;}#sk-container-id-1 div.sk-parallel-item:only-child::after {width: 0;}#sk-container-id-1 div.sk-dashed-wrapped {border: 1px dashed gray;margin: 0 0.4em 0.5em 0.4em;box-sizing: border-box;padding-bottom: 0.4em;background-color: white;}#sk-container-id-1 div.sk-label label {font-family: monospace;font-weight: bold;display: inline-block;line-height: 1.2em;}#sk-container-id-1 div.sk-label-container {text-align: center;}#sk-container-id-1 div.sk-container {/* jupyter's `normalize.less` sets `[hidden] { display: none; }` but bootstrap.min.css set `[hidden] { display: none !important; }` so we also need the `!important` here to be able to override the default hidden behavior on the sphinx rendered scikit-learn.org. See: https://github.com/scikit-learn/scikit-learn/issues/21755 */display: inline-block !important;position: relative;}#sk-container-id-1 div.sk-text-repr-fallback {display: none;}</style><div id=\"sk-container-id-1\" class=\"sk-top-container\"><div class=\"sk-text-repr-fallback\"><pre>GridSearchCV(cv=2, estimator=RandomForestRegressor(), n_jobs=1,\n",
       "             param_grid={&#x27;bootstrap&#x27;: [True], &#x27;criterion&#x27;: [&#x27;friedman_mse&#x27;],\n",
       "                         &#x27;max_depth&#x27;: [200, 400, 600], &#x27;max_features&#x27;: [&#x27;auto&#x27;],\n",
       "                         &#x27;min_samples_split&#x27;: [2, 5, 8],\n",
       "                         &#x27;n_estimators&#x27;: [200, 1100, 2000]},\n",
       "             scoring=&#x27;neg_mean_squared_error&#x27;, verbose=20)</pre><b>In a Jupyter environment, please rerun this cell to show the HTML representation or trust the notebook. <br />On GitHub, the HTML representation is unable to render, please try loading this page with nbviewer.org.</b></div><div class=\"sk-container\" hidden><div class=\"sk-item sk-dashed-wrapped\"><div class=\"sk-label-container\"><div class=\"sk-label sk-toggleable\"><input class=\"sk-toggleable__control sk-hidden--visually\" id=\"sk-estimator-id-1\" type=\"checkbox\" ><label for=\"sk-estimator-id-1\" class=\"sk-toggleable__label sk-toggleable__label-arrow\">GridSearchCV</label><div class=\"sk-toggleable__content\"><pre>GridSearchCV(cv=2, estimator=RandomForestRegressor(), n_jobs=1,\n",
       "             param_grid={&#x27;bootstrap&#x27;: [True], &#x27;criterion&#x27;: [&#x27;friedman_mse&#x27;],\n",
       "                         &#x27;max_depth&#x27;: [200, 400, 600], &#x27;max_features&#x27;: [&#x27;auto&#x27;],\n",
       "                         &#x27;min_samples_split&#x27;: [2, 5, 8],\n",
       "                         &#x27;n_estimators&#x27;: [200, 1100, 2000]},\n",
       "             scoring=&#x27;neg_mean_squared_error&#x27;, verbose=20)</pre></div></div></div><div class=\"sk-parallel\"><div class=\"sk-parallel-item\"><div class=\"sk-item\"><div class=\"sk-label-container\"><div class=\"sk-label sk-toggleable\"><input class=\"sk-toggleable__control sk-hidden--visually\" id=\"sk-estimator-id-2\" type=\"checkbox\" ><label for=\"sk-estimator-id-2\" class=\"sk-toggleable__label sk-toggleable__label-arrow\">estimator: RandomForestRegressor</label><div class=\"sk-toggleable__content\"><pre>RandomForestRegressor()</pre></div></div></div><div class=\"sk-serial\"><div class=\"sk-item\"><div class=\"sk-estimator sk-toggleable\"><input class=\"sk-toggleable__control sk-hidden--visually\" id=\"sk-estimator-id-3\" type=\"checkbox\" ><label for=\"sk-estimator-id-3\" class=\"sk-toggleable__label sk-toggleable__label-arrow\">RandomForestRegressor</label><div class=\"sk-toggleable__content\"><pre>RandomForestRegressor()</pre></div></div></div></div></div></div></div></div></div></div>"
      ],
      "text/plain": [
       "GridSearchCV(cv=2, estimator=RandomForestRegressor(), n_jobs=1,\n",
       "             param_grid={'bootstrap': [True], 'criterion': ['friedman_mse'],\n",
       "                         'max_depth': [200, 400, 600], 'max_features': ['auto'],\n",
       "                         'min_samples_split': [2, 5, 8],\n",
       "                         'n_estimators': [200, 1100, 2000]},\n",
       "             scoring='neg_mean_squared_error', verbose=20)"
      ]
     },
     "execution_count": 31,
     "metadata": {},
     "output_type": "execute_result"
    }
   ],
   "source": [
    "\n",
    "rf = RandomForestRegressor()\n",
    "\n",
    "rf_random = GridSearchCV(estimator=rf, param_grid=grid,cv=2,\n",
    "                               verbose=20, n_jobs=1,scoring='neg_mean_squared_error')\n",
    "\n",
    "rf_random.fit(X_train, y_train.ravel())\n"
   ]
  },
  {
   "cell_type": "code",
   "execution_count": 32,
   "id": "3a847be0",
   "metadata": {},
   "outputs": [
    {
     "name": "stdout",
     "output_type": "stream",
     "text": [
      "{'bootstrap': True, 'criterion': 'friedman_mse', 'max_depth': 400, 'max_features': 'auto', 'min_samples_split': 5, 'n_estimators': 2000}\n",
      "-0.5469618654053874\n"
     ]
    }
   ],
   "source": [
    "print(rf_random.best_params_)\n",
    "print(rf_random.best_score_)"
   ]
  },
  {
   "cell_type": "markdown",
   "id": "bfb16e8e",
   "metadata": {},
   "source": [
    "## Training the Random Forest Regression model with optimal hyperparameters"
   ]
  },
  {
   "cell_type": "code",
   "execution_count": 33,
   "id": "b65d874c",
   "metadata": {},
   "outputs": [
    {
     "data": {
      "text/html": [
       "<style>#sk-container-id-2 {color: black;background-color: white;}#sk-container-id-2 pre{padding: 0;}#sk-container-id-2 div.sk-toggleable {background-color: white;}#sk-container-id-2 label.sk-toggleable__label {cursor: pointer;display: block;width: 100%;margin-bottom: 0;padding: 0.3em;box-sizing: border-box;text-align: center;}#sk-container-id-2 label.sk-toggleable__label-arrow:before {content: \"▸\";float: left;margin-right: 0.25em;color: #696969;}#sk-container-id-2 label.sk-toggleable__label-arrow:hover:before {color: black;}#sk-container-id-2 div.sk-estimator:hover label.sk-toggleable__label-arrow:before {color: black;}#sk-container-id-2 div.sk-toggleable__content {max-height: 0;max-width: 0;overflow: hidden;text-align: left;background-color: #f0f8ff;}#sk-container-id-2 div.sk-toggleable__content pre {margin: 0.2em;color: black;border-radius: 0.25em;background-color: #f0f8ff;}#sk-container-id-2 input.sk-toggleable__control:checked~div.sk-toggleable__content {max-height: 200px;max-width: 100%;overflow: auto;}#sk-container-id-2 input.sk-toggleable__control:checked~label.sk-toggleable__label-arrow:before {content: \"▾\";}#sk-container-id-2 div.sk-estimator input.sk-toggleable__control:checked~label.sk-toggleable__label {background-color: #d4ebff;}#sk-container-id-2 div.sk-label input.sk-toggleable__control:checked~label.sk-toggleable__label {background-color: #d4ebff;}#sk-container-id-2 input.sk-hidden--visually {border: 0;clip: rect(1px 1px 1px 1px);clip: rect(1px, 1px, 1px, 1px);height: 1px;margin: -1px;overflow: hidden;padding: 0;position: absolute;width: 1px;}#sk-container-id-2 div.sk-estimator {font-family: monospace;background-color: #f0f8ff;border: 1px dotted black;border-radius: 0.25em;box-sizing: border-box;margin-bottom: 0.5em;}#sk-container-id-2 div.sk-estimator:hover {background-color: #d4ebff;}#sk-container-id-2 div.sk-parallel-item::after {content: \"\";width: 100%;border-bottom: 1px solid gray;flex-grow: 1;}#sk-container-id-2 div.sk-label:hover label.sk-toggleable__label {background-color: #d4ebff;}#sk-container-id-2 div.sk-serial::before {content: \"\";position: absolute;border-left: 1px solid gray;box-sizing: border-box;top: 0;bottom: 0;left: 50%;z-index: 0;}#sk-container-id-2 div.sk-serial {display: flex;flex-direction: column;align-items: center;background-color: white;padding-right: 0.2em;padding-left: 0.2em;position: relative;}#sk-container-id-2 div.sk-item {position: relative;z-index: 1;}#sk-container-id-2 div.sk-parallel {display: flex;align-items: stretch;justify-content: center;background-color: white;position: relative;}#sk-container-id-2 div.sk-item::before, #sk-container-id-2 div.sk-parallel-item::before {content: \"\";position: absolute;border-left: 1px solid gray;box-sizing: border-box;top: 0;bottom: 0;left: 50%;z-index: -1;}#sk-container-id-2 div.sk-parallel-item {display: flex;flex-direction: column;z-index: 1;position: relative;background-color: white;}#sk-container-id-2 div.sk-parallel-item:first-child::after {align-self: flex-end;width: 50%;}#sk-container-id-2 div.sk-parallel-item:last-child::after {align-self: flex-start;width: 50%;}#sk-container-id-2 div.sk-parallel-item:only-child::after {width: 0;}#sk-container-id-2 div.sk-dashed-wrapped {border: 1px dashed gray;margin: 0 0.4em 0.5em 0.4em;box-sizing: border-box;padding-bottom: 0.4em;background-color: white;}#sk-container-id-2 div.sk-label label {font-family: monospace;font-weight: bold;display: inline-block;line-height: 1.2em;}#sk-container-id-2 div.sk-label-container {text-align: center;}#sk-container-id-2 div.sk-container {/* jupyter's `normalize.less` sets `[hidden] { display: none; }` but bootstrap.min.css set `[hidden] { display: none !important; }` so we also need the `!important` here to be able to override the default hidden behavior on the sphinx rendered scikit-learn.org. See: https://github.com/scikit-learn/scikit-learn/issues/21755 */display: inline-block !important;position: relative;}#sk-container-id-2 div.sk-text-repr-fallback {display: none;}</style><div id=\"sk-container-id-2\" class=\"sk-top-container\"><div class=\"sk-text-repr-fallback\"><pre>RandomForestRegressor(criterion=&#x27;friedman_mse&#x27;, max_depth=400,\n",
       "                      max_features=&#x27;auto&#x27;, min_samples_split=5,\n",
       "                      n_estimators=2000)</pre><b>In a Jupyter environment, please rerun this cell to show the HTML representation or trust the notebook. <br />On GitHub, the HTML representation is unable to render, please try loading this page with nbviewer.org.</b></div><div class=\"sk-container\" hidden><div class=\"sk-item\"><div class=\"sk-estimator sk-toggleable\"><input class=\"sk-toggleable__control sk-hidden--visually\" id=\"sk-estimator-id-4\" type=\"checkbox\" checked><label for=\"sk-estimator-id-4\" class=\"sk-toggleable__label sk-toggleable__label-arrow\">RandomForestRegressor</label><div class=\"sk-toggleable__content\"><pre>RandomForestRegressor(criterion=&#x27;friedman_mse&#x27;, max_depth=400,\n",
       "                      max_features=&#x27;auto&#x27;, min_samples_split=5,\n",
       "                      n_estimators=2000)</pre></div></div></div></div></div>"
      ],
      "text/plain": [
       "RandomForestRegressor(criterion='friedman_mse', max_depth=400,\n",
       "                      max_features='auto', min_samples_split=5,\n",
       "                      n_estimators=2000)"
      ]
     },
     "execution_count": 33,
     "metadata": {},
     "output_type": "execute_result"
    }
   ],
   "source": [
    "rf_regressor = RandomForestRegressor(n_estimators=2000, \n",
    "                                     bootstrap=True,\n",
    "                                     criterion='friedman_mse',\n",
    "                                     max_depth = 400,\n",
    "                                     max_features = 'auto',\n",
    "                                     min_samples_split=5)\n",
    "                                    \n",
    "rf_regressor.fit(X_train, y_train.ravel())\n"
   ]
  },
  {
   "cell_type": "markdown",
   "id": "68e17214",
   "metadata": {},
   "source": [
    "## Validation"
   ]
  },
  {
   "cell_type": "code",
   "execution_count": 35,
   "id": "03a798c0",
   "metadata": {},
   "outputs": [],
   "source": [
    "y_pred = rf_regressor.predict(X_test)"
   ]
  },
  {
   "cell_type": "code",
   "execution_count": 36,
   "id": "7f01d291",
   "metadata": {},
   "outputs": [
    {
     "name": "stdout",
     "output_type": "stream",
     "text": [
      "Heart rate MSE: 0.4496177125776639\n",
      "Heart rate RMSE: 0.6705353924869767\n",
      "Heart rate MAE: 0.39697090348394487\n"
     ]
    }
   ],
   "source": [
    "print(\"Heart rate MSE:\", mean_squared_error(y_test, y_pred))\n",
    "print(\"Heart rate RMSE:\", mean_squared_error(y_test, y_pred,squared=False))\n",
    "print(\"Heart rate MAE:\", mean_absolute_error(y_test, y_pred))\n"
   ]
  },
  {
   "cell_type": "markdown",
   "id": "9f960e0d",
   "metadata": {},
   "source": [
    "## Export the model"
   ]
  },
  {
   "cell_type": "code",
   "execution_count": 37,
   "id": "03bb8acc",
   "metadata": {},
   "outputs": [],
   "source": [
    "# save the model to disk\n",
    "filename = 'models/random_forest.sav'\n",
    "pickle.dump(rf_regressor, open(filename, 'wb'))"
   ]
  },
  {
   "cell_type": "code",
   "execution_count": null,
   "id": "5107523a",
   "metadata": {},
   "outputs": [],
   "source": []
  }
 ],
 "metadata": {
  "kernelspec": {
   "display_name": "Python 3 (ipykernel)",
   "language": "python",
   "name": "python3"
  },
  "language_info": {
   "codemirror_mode": {
    "name": "ipython",
    "version": 3
   },
   "file_extension": ".py",
   "mimetype": "text/x-python",
   "name": "python",
   "nbconvert_exporter": "python",
   "pygments_lexer": "ipython3",
   "version": "3.9.12"
  },
  "vscode": {
   "interpreter": {
    "hash": "ef3746ebe65b2a795badd8db80794ad8645ce3fd4fa2810868c795d806dc4d0b"
   }
  }
 },
 "nbformat": 4,
 "nbformat_minor": 5
}
